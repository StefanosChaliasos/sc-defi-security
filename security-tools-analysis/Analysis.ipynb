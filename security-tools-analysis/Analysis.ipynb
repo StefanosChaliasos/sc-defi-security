{
 "cells": [
  {
   "cell_type": "code",
   "execution_count": 1,
   "id": "d211e459",
   "metadata": {
    "ExecuteTime": {
     "end_time": "2023-06-20T08:10:20.512697Z",
     "start_time": "2023-06-20T08:10:17.651621Z"
    }
   },
   "outputs": [
    {
     "name": "stdout",
     "output_type": "stream",
     "text": [
      "Requirement already satisfied: pandas in /Users/rafaila/Repos/sc-defi-security/myvenv/lib/python3.11/site-packages (2.0.2)\r\n",
      "Requirement already satisfied: python-dateutil>=2.8.2 in /Users/rafaila/Repos/sc-defi-security/myvenv/lib/python3.11/site-packages (from pandas) (2.8.2)\r\n",
      "Requirement already satisfied: pytz>=2020.1 in /Users/rafaila/Repos/sc-defi-security/myvenv/lib/python3.11/site-packages (from pandas) (2023.3)\r\n",
      "Requirement already satisfied: tzdata>=2022.1 in /Users/rafaila/Repos/sc-defi-security/myvenv/lib/python3.11/site-packages (from pandas) (2023.3)\r\n",
      "Requirement already satisfied: numpy>=1.21.0 in /Users/rafaila/Repos/sc-defi-security/myvenv/lib/python3.11/site-packages (from pandas) (1.24.3)\r\n",
      "Requirement already satisfied: six>=1.5 in /Users/rafaila/Repos/sc-defi-security/myvenv/lib/python3.11/site-packages (from python-dateutil>=2.8.2->pandas) (1.16.0)\r\n",
      "\r\n",
      "\u001B[1m[\u001B[0m\u001B[34;49mnotice\u001B[0m\u001B[1;39;49m]\u001B[0m\u001B[39;49m A new release of pip is available: \u001B[0m\u001B[31;49m23.0.1\u001B[0m\u001B[39;49m -> \u001B[0m\u001B[32;49m23.1.2\u001B[0m\r\n",
      "\u001B[1m[\u001B[0m\u001B[34;49mnotice\u001B[0m\u001B[1;39;49m]\u001B[0m\u001B[39;49m To update, run: \u001B[0m\u001B[32;49mpip install --upgrade pip\u001B[0m\r\n"
     ]
    }
   ],
   "source": [
    "!pip install pandas "
   ]
  },
  {
   "cell_type": "code",
   "execution_count": 2,
   "id": "5b43aba0",
   "metadata": {
    "ExecuteTime": {
     "end_time": "2023-06-20T08:10:20.803193Z",
     "start_time": "2023-06-20T08:10:20.514545Z"
    }
   },
   "outputs": [],
   "source": [
    "import sqlite3\n",
    "import pandas as pd\n",
    "from collections import defaultdict"
   ]
  },
  {
   "cell_type": "code",
   "execution_count": 3,
   "id": "e885510a",
   "metadata": {
    "ExecuteTime": {
     "end_time": "2023-06-20T08:10:20.805544Z",
     "start_time": "2023-06-20T08:10:20.804092Z"
    }
   },
   "outputs": [],
   "source": [
    "database = \"../dataset/database/retro.db\""
   ]
  },
  {
   "cell_type": "code",
   "execution_count": 4,
   "id": "98997e20",
   "metadata": {
    "ExecuteTime": {
     "end_time": "2023-06-20T08:10:20.807766Z",
     "start_time": "2023-06-20T08:10:20.806433Z"
    }
   },
   "outputs": [],
   "source": [
    "con: sqlite3.Connection = sqlite3.connect(database)\n",
    "cur: sqlite3.Cursor = con.cursor()"
   ]
  },
  {
   "cell_type": "code",
   "execution_count": 5,
   "id": "8e520d9d",
   "metadata": {
    "ExecuteTime": {
     "end_time": "2023-06-20T08:10:20.821076Z",
     "start_time": "2023-06-20T08:10:20.809966Z"
    }
   },
   "outputs": [
    {
     "data": {
      "text/plain": "                                           vuln_title        category  total  \\\n0                     Other auxiliary vulnerabilities        Auxilary     48   \n1             Absence of coding logic or sanity check  Smart Contract     42   \n2                        On-chain oracle manipulation        Protocol     29   \n3                                          Reentrancy  Smart Contract     13   \n4                                   Backdoor/Honeypot        Auxilary     12   \n5           Liquidity borrow, purchase, mint, deposit        Protocol     10   \n6                         Camouflage a token contract        Protocol      9   \n7                      Token standard incompatibility        Protocol      8   \n8                     Function/State Visibility Error  Smart Contract      8   \n9               Other unsafe DeFi protocol dependency        Protocol      7   \n10                                 Deployment mistake        Auxilary      6   \n11  Other inconsistent, improper or unprotected ac...  Smart Contract      5   \n12                                            Network         Network      5   \n13                                       Logic Errors  Smart Contract      5   \n14                         Unfair slippage protection        Protocol      4   \n15                         Unfair liquidity providing        Protocol      4   \n16                  Direct call to untrusted contract  Smart Contract      4   \n17                     Other protocol vulnerabilities        Protocol      3   \n18                                  Governance attack        Protocol      3   \n19                       Transaction Order Dependence        Protocol      2   \n20                              Other coding mistakes  Smart Contract      2   \n21                      Off-chain oracle manipulation        Auxilary      2   \n22                   Delegatecall to Untrusted Callee  Smart Contract      2   \n23                                       Broken patch  Patching Issue      2   \n24                    Unsafe call to phantom function        Protocol      1   \n25   Other unfair or unsafe DeFi protocol interaction        Protocol      1   \n26                    Known vulnerability not patched  Patching Issue      1   \n27               Improper asset locks or frozen asset  Smart Contract      1   \n28                    Camouflage a non-token contract        Protocol      1   \n29                                    Weak Randomness        Protocol      0   \n30                  Unsafe or infinite token approval        Protocol      0   \n31                                            Unknown         Unknown      0   \n32                  Unhandled or mishandled exception  Smart Contract      0   \n33                  Unencrypted Private Data On-Chain  Smart Contract      0   \n34                  Unbounded or gas costly operation  Smart Contract      0   \n35          Transaction / strategy / signature replay        Protocol      0   \n36                               Timestamp Dependence        Protocol      0   \n37                    Signature verification mistakes  Smart Contract      0   \n38                                      Short address  Smart Contract      0   \n39                          Shadowing State Variables  Smart Contract      0   \n40              Outdated compiler or solidity version  Smart Contract      0   \n41               Other smart contract vulnerabilities  Smart Contract      0   \n42             Message call with hardcoded gas amount  Smart Contract      0   \n43                     Integer Overflow and Underflow  Smart Contract      0   \n44                        Incorrect Inheritance Order  Smart Contract      0   \n45                                    Floating Pragma  Smart Contract      0   \n46                                     Exit mechanism  Exit mechanism      0   \n47                                          Consensus       Consensus      0   \n48                                            Casting  Smart Contract      0   \n\n                                                  ids  \n0   [20210627_SharedStake_S, 20190928_Fusion_S, 20...  \n1   [20220312_Paraluni_S, 20210810_PunkProtocol_CS...  \n2   [20210603_PancakeHunny_S, 20211006_MyFarmPet_S...  \n3   [20220312_Paraluni_S, 2020117_OriginDollar_CSR...  \n4   [20210304_MeerkatFinance_CSR, 20201201_Compoun...  \n5   [2020117_OriginDollar_CSR, 20211123_PloutozFin...  \n6   [20220312_Paraluni_S, 20201011_WLEO_S, 2021031...  \n7   [20220425_WienerDoge_S, 20220327_RevestFinance...  \n8   [20200630_VETH_S, 20200618_Bancor_S, 20210527_...  \n9   [20210508_RariCapital_CSR, 20210221_PrimitiveF...  \n10  [20210629_MerlinLab_RS, 20211123_OlympusDAO_S,...  \n11  [20210318_SILFinance_S, 20220201_MOX_S, 202109...  \n12  [20210219_F2Pool_S, 20210315_Pancakeswap_S, 20...  \n13  [20201228_CoverProtocol_CSR, 20210507_ValueDeF...  \n14  [20211014_IndexedFinance_CSR, 20210625_xWinFin...  \n15  [20210501_Spartan_CSR, 20210718_ArrayFinance_S...  \n16  [20210627_SharedStake_S, 20211127_dydx_S, 2021...  \n17  [20210522_BoggedFinance_S, 20211121_Formation,...  \n18  [20211110_Curve_S, 20220417_Beanstalk_SCR, 202...  \n19  [20211211_SorbetFinance_S, 20220402_InverseFin...  \n20       [20210710_Anyswap_SR, 20210929_Compound_CSR]  \n21          [20190625_Synthetix_S, 20210518_Venus_CS]  \n22  [20210810_PunkProtocol_CSR, 20211221_VisorFina...  \n23  [20210915_Nowswap_S, 20210428_UraniumFinance_CSR]  \n24                            [20220118_Multichain_S]  \n25                                  [20200215_bZx_CS]  \n26                       [20220430_SaddleFinance_CRS]  \n27                               [20200824_YFValue_S]  \n28                        [20210213_CreamFinance_CSR]  \n29                                                 []  \n30                                                 []  \n31                                                 []  \n32                                                 []  \n33                                                 []  \n34                                                 []  \n35                                                 []  \n36                                                 []  \n37                                                 []  \n38                                                 []  \n39                                                 []  \n40                                                 []  \n41                                                 []  \n42                                                 []  \n43                                                 []  \n44                                                 []  \n45                                                 []  \n46                                                 []  \n47                                                 []  \n48                                                 []  ",
      "text/html": "<div>\n<style scoped>\n    .dataframe tbody tr th:only-of-type {\n        vertical-align: middle;\n    }\n\n    .dataframe tbody tr th {\n        vertical-align: top;\n    }\n\n    .dataframe thead th {\n        text-align: right;\n    }\n</style>\n<table border=\"1\" class=\"dataframe\">\n  <thead>\n    <tr style=\"text-align: right;\">\n      <th></th>\n      <th>vuln_title</th>\n      <th>category</th>\n      <th>total</th>\n      <th>ids</th>\n    </tr>\n  </thead>\n  <tbody>\n    <tr>\n      <th>0</th>\n      <td>Other auxiliary vulnerabilities</td>\n      <td>Auxilary</td>\n      <td>48</td>\n      <td>[20210627_SharedStake_S, 20190928_Fusion_S, 20...</td>\n    </tr>\n    <tr>\n      <th>1</th>\n      <td>Absence of coding logic or sanity check</td>\n      <td>Smart Contract</td>\n      <td>42</td>\n      <td>[20220312_Paraluni_S, 20210810_PunkProtocol_CS...</td>\n    </tr>\n    <tr>\n      <th>2</th>\n      <td>On-chain oracle manipulation</td>\n      <td>Protocol</td>\n      <td>29</td>\n      <td>[20210603_PancakeHunny_S, 20211006_MyFarmPet_S...</td>\n    </tr>\n    <tr>\n      <th>3</th>\n      <td>Reentrancy</td>\n      <td>Smart Contract</td>\n      <td>13</td>\n      <td>[20220312_Paraluni_S, 2020117_OriginDollar_CSR...</td>\n    </tr>\n    <tr>\n      <th>4</th>\n      <td>Backdoor/Honeypot</td>\n      <td>Auxilary</td>\n      <td>12</td>\n      <td>[20210304_MeerkatFinance_CSR, 20201201_Compoun...</td>\n    </tr>\n    <tr>\n      <th>5</th>\n      <td>Liquidity borrow, purchase, mint, deposit</td>\n      <td>Protocol</td>\n      <td>10</td>\n      <td>[2020117_OriginDollar_CSR, 20211123_PloutozFin...</td>\n    </tr>\n    <tr>\n      <th>6</th>\n      <td>Camouflage a token contract</td>\n      <td>Protocol</td>\n      <td>9</td>\n      <td>[20220312_Paraluni_S, 20201011_WLEO_S, 2021031...</td>\n    </tr>\n    <tr>\n      <th>7</th>\n      <td>Token standard incompatibility</td>\n      <td>Protocol</td>\n      <td>8</td>\n      <td>[20220425_WienerDoge_S, 20220327_RevestFinance...</td>\n    </tr>\n    <tr>\n      <th>8</th>\n      <td>Function/State Visibility Error</td>\n      <td>Smart Contract</td>\n      <td>8</td>\n      <td>[20200630_VETH_S, 20200618_Bancor_S, 20210527_...</td>\n    </tr>\n    <tr>\n      <th>9</th>\n      <td>Other unsafe DeFi protocol dependency</td>\n      <td>Protocol</td>\n      <td>7</td>\n      <td>[20210508_RariCapital_CSR, 20210221_PrimitiveF...</td>\n    </tr>\n    <tr>\n      <th>10</th>\n      <td>Deployment mistake</td>\n      <td>Auxilary</td>\n      <td>6</td>\n      <td>[20210629_MerlinLab_RS, 20211123_OlympusDAO_S,...</td>\n    </tr>\n    <tr>\n      <th>11</th>\n      <td>Other inconsistent, improper or unprotected ac...</td>\n      <td>Smart Contract</td>\n      <td>5</td>\n      <td>[20210318_SILFinance_S, 20220201_MOX_S, 202109...</td>\n    </tr>\n    <tr>\n      <th>12</th>\n      <td>Network</td>\n      <td>Network</td>\n      <td>5</td>\n      <td>[20210219_F2Pool_S, 20210315_Pancakeswap_S, 20...</td>\n    </tr>\n    <tr>\n      <th>13</th>\n      <td>Logic Errors</td>\n      <td>Smart Contract</td>\n      <td>5</td>\n      <td>[20201228_CoverProtocol_CSR, 20210507_ValueDeF...</td>\n    </tr>\n    <tr>\n      <th>14</th>\n      <td>Unfair slippage protection</td>\n      <td>Protocol</td>\n      <td>4</td>\n      <td>[20211014_IndexedFinance_CSR, 20210625_xWinFin...</td>\n    </tr>\n    <tr>\n      <th>15</th>\n      <td>Unfair liquidity providing</td>\n      <td>Protocol</td>\n      <td>4</td>\n      <td>[20210501_Spartan_CSR, 20210718_ArrayFinance_S...</td>\n    </tr>\n    <tr>\n      <th>16</th>\n      <td>Direct call to untrusted contract</td>\n      <td>Smart Contract</td>\n      <td>4</td>\n      <td>[20210627_SharedStake_S, 20211127_dydx_S, 2021...</td>\n    </tr>\n    <tr>\n      <th>17</th>\n      <td>Other protocol vulnerabilities</td>\n      <td>Protocol</td>\n      <td>3</td>\n      <td>[20210522_BoggedFinance_S, 20211121_Formation,...</td>\n    </tr>\n    <tr>\n      <th>18</th>\n      <td>Governance attack</td>\n      <td>Protocol</td>\n      <td>3</td>\n      <td>[20211110_Curve_S, 20220417_Beanstalk_SCR, 202...</td>\n    </tr>\n    <tr>\n      <th>19</th>\n      <td>Transaction Order Dependence</td>\n      <td>Protocol</td>\n      <td>2</td>\n      <td>[20211211_SorbetFinance_S, 20220402_InverseFin...</td>\n    </tr>\n    <tr>\n      <th>20</th>\n      <td>Other coding mistakes</td>\n      <td>Smart Contract</td>\n      <td>2</td>\n      <td>[20210710_Anyswap_SR, 20210929_Compound_CSR]</td>\n    </tr>\n    <tr>\n      <th>21</th>\n      <td>Off-chain oracle manipulation</td>\n      <td>Auxilary</td>\n      <td>2</td>\n      <td>[20190625_Synthetix_S, 20210518_Venus_CS]</td>\n    </tr>\n    <tr>\n      <th>22</th>\n      <td>Delegatecall to Untrusted Callee</td>\n      <td>Smart Contract</td>\n      <td>2</td>\n      <td>[20210810_PunkProtocol_CSR, 20211221_VisorFina...</td>\n    </tr>\n    <tr>\n      <th>23</th>\n      <td>Broken patch</td>\n      <td>Patching Issue</td>\n      <td>2</td>\n      <td>[20210915_Nowswap_S, 20210428_UraniumFinance_CSR]</td>\n    </tr>\n    <tr>\n      <th>24</th>\n      <td>Unsafe call to phantom function</td>\n      <td>Protocol</td>\n      <td>1</td>\n      <td>[20220118_Multichain_S]</td>\n    </tr>\n    <tr>\n      <th>25</th>\n      <td>Other unfair or unsafe DeFi protocol interaction</td>\n      <td>Protocol</td>\n      <td>1</td>\n      <td>[20200215_bZx_CS]</td>\n    </tr>\n    <tr>\n      <th>26</th>\n      <td>Known vulnerability not patched</td>\n      <td>Patching Issue</td>\n      <td>1</td>\n      <td>[20220430_SaddleFinance_CRS]</td>\n    </tr>\n    <tr>\n      <th>27</th>\n      <td>Improper asset locks or frozen asset</td>\n      <td>Smart Contract</td>\n      <td>1</td>\n      <td>[20200824_YFValue_S]</td>\n    </tr>\n    <tr>\n      <th>28</th>\n      <td>Camouflage a non-token contract</td>\n      <td>Protocol</td>\n      <td>1</td>\n      <td>[20210213_CreamFinance_CSR]</td>\n    </tr>\n    <tr>\n      <th>29</th>\n      <td>Weak Randomness</td>\n      <td>Protocol</td>\n      <td>0</td>\n      <td>[]</td>\n    </tr>\n    <tr>\n      <th>30</th>\n      <td>Unsafe or infinite token approval</td>\n      <td>Protocol</td>\n      <td>0</td>\n      <td>[]</td>\n    </tr>\n    <tr>\n      <th>31</th>\n      <td>Unknown</td>\n      <td>Unknown</td>\n      <td>0</td>\n      <td>[]</td>\n    </tr>\n    <tr>\n      <th>32</th>\n      <td>Unhandled or mishandled exception</td>\n      <td>Smart Contract</td>\n      <td>0</td>\n      <td>[]</td>\n    </tr>\n    <tr>\n      <th>33</th>\n      <td>Unencrypted Private Data On-Chain</td>\n      <td>Smart Contract</td>\n      <td>0</td>\n      <td>[]</td>\n    </tr>\n    <tr>\n      <th>34</th>\n      <td>Unbounded or gas costly operation</td>\n      <td>Smart Contract</td>\n      <td>0</td>\n      <td>[]</td>\n    </tr>\n    <tr>\n      <th>35</th>\n      <td>Transaction / strategy / signature replay</td>\n      <td>Protocol</td>\n      <td>0</td>\n      <td>[]</td>\n    </tr>\n    <tr>\n      <th>36</th>\n      <td>Timestamp Dependence</td>\n      <td>Protocol</td>\n      <td>0</td>\n      <td>[]</td>\n    </tr>\n    <tr>\n      <th>37</th>\n      <td>Signature verification mistakes</td>\n      <td>Smart Contract</td>\n      <td>0</td>\n      <td>[]</td>\n    </tr>\n    <tr>\n      <th>38</th>\n      <td>Short address</td>\n      <td>Smart Contract</td>\n      <td>0</td>\n      <td>[]</td>\n    </tr>\n    <tr>\n      <th>39</th>\n      <td>Shadowing State Variables</td>\n      <td>Smart Contract</td>\n      <td>0</td>\n      <td>[]</td>\n    </tr>\n    <tr>\n      <th>40</th>\n      <td>Outdated compiler or solidity version</td>\n      <td>Smart Contract</td>\n      <td>0</td>\n      <td>[]</td>\n    </tr>\n    <tr>\n      <th>41</th>\n      <td>Other smart contract vulnerabilities</td>\n      <td>Smart Contract</td>\n      <td>0</td>\n      <td>[]</td>\n    </tr>\n    <tr>\n      <th>42</th>\n      <td>Message call with hardcoded gas amount</td>\n      <td>Smart Contract</td>\n      <td>0</td>\n      <td>[]</td>\n    </tr>\n    <tr>\n      <th>43</th>\n      <td>Integer Overflow and Underflow</td>\n      <td>Smart Contract</td>\n      <td>0</td>\n      <td>[]</td>\n    </tr>\n    <tr>\n      <th>44</th>\n      <td>Incorrect Inheritance Order</td>\n      <td>Smart Contract</td>\n      <td>0</td>\n      <td>[]</td>\n    </tr>\n    <tr>\n      <th>45</th>\n      <td>Floating Pragma</td>\n      <td>Smart Contract</td>\n      <td>0</td>\n      <td>[]</td>\n    </tr>\n    <tr>\n      <th>46</th>\n      <td>Exit mechanism</td>\n      <td>Exit mechanism</td>\n      <td>0</td>\n      <td>[]</td>\n    </tr>\n    <tr>\n      <th>47</th>\n      <td>Consensus</td>\n      <td>Consensus</td>\n      <td>0</td>\n      <td>[]</td>\n    </tr>\n    <tr>\n      <th>48</th>\n      <td>Casting</td>\n      <td>Smart Contract</td>\n      <td>0</td>\n      <td>[]</td>\n    </tr>\n  </tbody>\n</table>\n</div>"
     },
     "execution_count": 5,
     "metadata": {},
     "output_type": "execute_result"
    }
   ],
   "source": [
    "# 1. How many incidents there are for each bug category\n",
    "query = \"\"\"\n",
    "SELECT vuln_title, VulnerabilitiesMap.category, COUNT(DISTINCT I.incident_id) as total, GROUP_CONCAT(I.incident_title) as ids\n",
    "FROM VulnerabilitiesMap\n",
    "LEFT JOIN Cause C on VulnerabilitiesMap.vuln_map_id = C.vuln_map_id\n",
    "LEFT JOIN IncidentCause IC on C.cause_id = IC.cause_id\n",
    "LEFT JOIN Incident I on I.incident_id = IC.incident_id\n",
    "GROUP BY vuln_title\n",
    "ORDER BY total DESC\n",
    "\"\"\"\n",
    "incidents_per_category = pd.read_sql(query, con)\n",
    "incidents_per_category['ids'] = incidents_per_category['ids'].apply(lambda x: list(set([x for x in x.split(',')] if x is not None else [])))\n",
    "incidents_per_category"
   ]
  },
  {
   "cell_type": "code",
   "execution_count": 6,
   "id": "6fd638f2",
   "metadata": {
    "ExecuteTime": {
     "end_time": "2023-06-20T08:10:20.852924Z",
     "start_time": "2023-06-20T08:10:20.826796Z"
    }
   },
   "outputs": [
    {
     "data": {
      "text/plain": "                                           vuln_title        category  total  \\\n1             Absence of coding logic or sanity check  Smart Contract     42   \n2                        On-chain oracle manipulation        Protocol     29   \n3                                          Reentrancy  Smart Contract     13   \n5           Liquidity borrow, purchase, mint, deposit        Protocol     10   \n6                         Camouflage a token contract        Protocol      9   \n7                      Token standard incompatibility        Protocol      8   \n8                     Function/State Visibility Error  Smart Contract      8   \n9               Other unsafe DeFi protocol dependency        Protocol      7   \n11  Other inconsistent, improper or unprotected ac...  Smart Contract      5   \n13                                       Logic Errors  Smart Contract      5   \n14                         Unfair slippage protection        Protocol      4   \n15                         Unfair liquidity providing        Protocol      4   \n16                  Direct call to untrusted contract  Smart Contract      4   \n17                     Other protocol vulnerabilities        Protocol      3   \n18                                  Governance attack        Protocol      3   \n19                       Transaction Order Dependence        Protocol      2   \n20                              Other coding mistakes  Smart Contract      2   \n22                   Delegatecall to Untrusted Callee  Smart Contract      2   \n24                    Unsafe call to phantom function        Protocol      1   \n25   Other unfair or unsafe DeFi protocol interaction        Protocol      1   \n27               Improper asset locks or frozen asset  Smart Contract      1   \n28                    Camouflage a non-token contract        Protocol      1   \n29                                    Weak Randomness        Protocol      0   \n30                  Unsafe or infinite token approval        Protocol      0   \n32                  Unhandled or mishandled exception  Smart Contract      0   \n33                  Unencrypted Private Data On-Chain  Smart Contract      0   \n34                  Unbounded or gas costly operation  Smart Contract      0   \n35          Transaction / strategy / signature replay        Protocol      0   \n36                               Timestamp Dependence        Protocol      0   \n37                    Signature verification mistakes  Smart Contract      0   \n38                                      Short address  Smart Contract      0   \n39                          Shadowing State Variables  Smart Contract      0   \n40              Outdated compiler or solidity version  Smart Contract      0   \n41               Other smart contract vulnerabilities  Smart Contract      0   \n42             Message call with hardcoded gas amount  Smart Contract      0   \n43                     Integer Overflow and Underflow  Smart Contract      0   \n44                        Incorrect Inheritance Order  Smart Contract      0   \n45                                    Floating Pragma  Smart Contract      0   \n48                                            Casting  Smart Contract      0   \n\n                                                  ids  \n1   [20220312_Paraluni_S, 20210810_PunkProtocol_CS...  \n2   [20210603_PancakeHunny_S, 20211006_MyFarmPet_S...  \n3   [20220312_Paraluni_S, 2020117_OriginDollar_CSR...  \n5   [2020117_OriginDollar_CSR, 20211123_PloutozFin...  \n6   [20220312_Paraluni_S, 20201011_WLEO_S, 2021031...  \n7   [20220425_WienerDoge_S, 20220327_RevestFinance...  \n8   [20200630_VETH_S, 20200618_Bancor_S, 20210527_...  \n9   [20210508_RariCapital_CSR, 20210221_PrimitiveF...  \n11  [20210318_SILFinance_S, 20220201_MOX_S, 202109...  \n13  [20201228_CoverProtocol_CSR, 20210507_ValueDeF...  \n14  [20211014_IndexedFinance_CSR, 20210625_xWinFin...  \n15  [20210501_Spartan_CSR, 20210718_ArrayFinance_S...  \n16  [20210627_SharedStake_S, 20211127_dydx_S, 2021...  \n17  [20210522_BoggedFinance_S, 20211121_Formation,...  \n18  [20211110_Curve_S, 20220417_Beanstalk_SCR, 202...  \n19  [20211211_SorbetFinance_S, 20220402_InverseFin...  \n20       [20210710_Anyswap_SR, 20210929_Compound_CSR]  \n22  [20210810_PunkProtocol_CSR, 20211221_VisorFina...  \n24                            [20220118_Multichain_S]  \n25                                  [20200215_bZx_CS]  \n27                               [20200824_YFValue_S]  \n28                        [20210213_CreamFinance_CSR]  \n29                                                 []  \n30                                                 []  \n32                                                 []  \n33                                                 []  \n34                                                 []  \n35                                                 []  \n36                                                 []  \n37                                                 []  \n38                                                 []  \n39                                                 []  \n40                                                 []  \n41                                                 []  \n42                                                 []  \n43                                                 []  \n44                                                 []  \n45                                                 []  \n48                                                 []  ",
      "text/html": "<div>\n<style scoped>\n    .dataframe tbody tr th:only-of-type {\n        vertical-align: middle;\n    }\n\n    .dataframe tbody tr th {\n        vertical-align: top;\n    }\n\n    .dataframe thead th {\n        text-align: right;\n    }\n</style>\n<table border=\"1\" class=\"dataframe\">\n  <thead>\n    <tr style=\"text-align: right;\">\n      <th></th>\n      <th>vuln_title</th>\n      <th>category</th>\n      <th>total</th>\n      <th>ids</th>\n    </tr>\n  </thead>\n  <tbody>\n    <tr>\n      <th>1</th>\n      <td>Absence of coding logic or sanity check</td>\n      <td>Smart Contract</td>\n      <td>42</td>\n      <td>[20220312_Paraluni_S, 20210810_PunkProtocol_CS...</td>\n    </tr>\n    <tr>\n      <th>2</th>\n      <td>On-chain oracle manipulation</td>\n      <td>Protocol</td>\n      <td>29</td>\n      <td>[20210603_PancakeHunny_S, 20211006_MyFarmPet_S...</td>\n    </tr>\n    <tr>\n      <th>3</th>\n      <td>Reentrancy</td>\n      <td>Smart Contract</td>\n      <td>13</td>\n      <td>[20220312_Paraluni_S, 2020117_OriginDollar_CSR...</td>\n    </tr>\n    <tr>\n      <th>5</th>\n      <td>Liquidity borrow, purchase, mint, deposit</td>\n      <td>Protocol</td>\n      <td>10</td>\n      <td>[2020117_OriginDollar_CSR, 20211123_PloutozFin...</td>\n    </tr>\n    <tr>\n      <th>6</th>\n      <td>Camouflage a token contract</td>\n      <td>Protocol</td>\n      <td>9</td>\n      <td>[20220312_Paraluni_S, 20201011_WLEO_S, 2021031...</td>\n    </tr>\n    <tr>\n      <th>7</th>\n      <td>Token standard incompatibility</td>\n      <td>Protocol</td>\n      <td>8</td>\n      <td>[20220425_WienerDoge_S, 20220327_RevestFinance...</td>\n    </tr>\n    <tr>\n      <th>8</th>\n      <td>Function/State Visibility Error</td>\n      <td>Smart Contract</td>\n      <td>8</td>\n      <td>[20200630_VETH_S, 20200618_Bancor_S, 20210527_...</td>\n    </tr>\n    <tr>\n      <th>9</th>\n      <td>Other unsafe DeFi protocol dependency</td>\n      <td>Protocol</td>\n      <td>7</td>\n      <td>[20210508_RariCapital_CSR, 20210221_PrimitiveF...</td>\n    </tr>\n    <tr>\n      <th>11</th>\n      <td>Other inconsistent, improper or unprotected ac...</td>\n      <td>Smart Contract</td>\n      <td>5</td>\n      <td>[20210318_SILFinance_S, 20220201_MOX_S, 202109...</td>\n    </tr>\n    <tr>\n      <th>13</th>\n      <td>Logic Errors</td>\n      <td>Smart Contract</td>\n      <td>5</td>\n      <td>[20201228_CoverProtocol_CSR, 20210507_ValueDeF...</td>\n    </tr>\n    <tr>\n      <th>14</th>\n      <td>Unfair slippage protection</td>\n      <td>Protocol</td>\n      <td>4</td>\n      <td>[20211014_IndexedFinance_CSR, 20210625_xWinFin...</td>\n    </tr>\n    <tr>\n      <th>15</th>\n      <td>Unfair liquidity providing</td>\n      <td>Protocol</td>\n      <td>4</td>\n      <td>[20210501_Spartan_CSR, 20210718_ArrayFinance_S...</td>\n    </tr>\n    <tr>\n      <th>16</th>\n      <td>Direct call to untrusted contract</td>\n      <td>Smart Contract</td>\n      <td>4</td>\n      <td>[20210627_SharedStake_S, 20211127_dydx_S, 2021...</td>\n    </tr>\n    <tr>\n      <th>17</th>\n      <td>Other protocol vulnerabilities</td>\n      <td>Protocol</td>\n      <td>3</td>\n      <td>[20210522_BoggedFinance_S, 20211121_Formation,...</td>\n    </tr>\n    <tr>\n      <th>18</th>\n      <td>Governance attack</td>\n      <td>Protocol</td>\n      <td>3</td>\n      <td>[20211110_Curve_S, 20220417_Beanstalk_SCR, 202...</td>\n    </tr>\n    <tr>\n      <th>19</th>\n      <td>Transaction Order Dependence</td>\n      <td>Protocol</td>\n      <td>2</td>\n      <td>[20211211_SorbetFinance_S, 20220402_InverseFin...</td>\n    </tr>\n    <tr>\n      <th>20</th>\n      <td>Other coding mistakes</td>\n      <td>Smart Contract</td>\n      <td>2</td>\n      <td>[20210710_Anyswap_SR, 20210929_Compound_CSR]</td>\n    </tr>\n    <tr>\n      <th>22</th>\n      <td>Delegatecall to Untrusted Callee</td>\n      <td>Smart Contract</td>\n      <td>2</td>\n      <td>[20210810_PunkProtocol_CSR, 20211221_VisorFina...</td>\n    </tr>\n    <tr>\n      <th>24</th>\n      <td>Unsafe call to phantom function</td>\n      <td>Protocol</td>\n      <td>1</td>\n      <td>[20220118_Multichain_S]</td>\n    </tr>\n    <tr>\n      <th>25</th>\n      <td>Other unfair or unsafe DeFi protocol interaction</td>\n      <td>Protocol</td>\n      <td>1</td>\n      <td>[20200215_bZx_CS]</td>\n    </tr>\n    <tr>\n      <th>27</th>\n      <td>Improper asset locks or frozen asset</td>\n      <td>Smart Contract</td>\n      <td>1</td>\n      <td>[20200824_YFValue_S]</td>\n    </tr>\n    <tr>\n      <th>28</th>\n      <td>Camouflage a non-token contract</td>\n      <td>Protocol</td>\n      <td>1</td>\n      <td>[20210213_CreamFinance_CSR]</td>\n    </tr>\n    <tr>\n      <th>29</th>\n      <td>Weak Randomness</td>\n      <td>Protocol</td>\n      <td>0</td>\n      <td>[]</td>\n    </tr>\n    <tr>\n      <th>30</th>\n      <td>Unsafe or infinite token approval</td>\n      <td>Protocol</td>\n      <td>0</td>\n      <td>[]</td>\n    </tr>\n    <tr>\n      <th>32</th>\n      <td>Unhandled or mishandled exception</td>\n      <td>Smart Contract</td>\n      <td>0</td>\n      <td>[]</td>\n    </tr>\n    <tr>\n      <th>33</th>\n      <td>Unencrypted Private Data On-Chain</td>\n      <td>Smart Contract</td>\n      <td>0</td>\n      <td>[]</td>\n    </tr>\n    <tr>\n      <th>34</th>\n      <td>Unbounded or gas costly operation</td>\n      <td>Smart Contract</td>\n      <td>0</td>\n      <td>[]</td>\n    </tr>\n    <tr>\n      <th>35</th>\n      <td>Transaction / strategy / signature replay</td>\n      <td>Protocol</td>\n      <td>0</td>\n      <td>[]</td>\n    </tr>\n    <tr>\n      <th>36</th>\n      <td>Timestamp Dependence</td>\n      <td>Protocol</td>\n      <td>0</td>\n      <td>[]</td>\n    </tr>\n    <tr>\n      <th>37</th>\n      <td>Signature verification mistakes</td>\n      <td>Smart Contract</td>\n      <td>0</td>\n      <td>[]</td>\n    </tr>\n    <tr>\n      <th>38</th>\n      <td>Short address</td>\n      <td>Smart Contract</td>\n      <td>0</td>\n      <td>[]</td>\n    </tr>\n    <tr>\n      <th>39</th>\n      <td>Shadowing State Variables</td>\n      <td>Smart Contract</td>\n      <td>0</td>\n      <td>[]</td>\n    </tr>\n    <tr>\n      <th>40</th>\n      <td>Outdated compiler or solidity version</td>\n      <td>Smart Contract</td>\n      <td>0</td>\n      <td>[]</td>\n    </tr>\n    <tr>\n      <th>41</th>\n      <td>Other smart contract vulnerabilities</td>\n      <td>Smart Contract</td>\n      <td>0</td>\n      <td>[]</td>\n    </tr>\n    <tr>\n      <th>42</th>\n      <td>Message call with hardcoded gas amount</td>\n      <td>Smart Contract</td>\n      <td>0</td>\n      <td>[]</td>\n    </tr>\n    <tr>\n      <th>43</th>\n      <td>Integer Overflow and Underflow</td>\n      <td>Smart Contract</td>\n      <td>0</td>\n      <td>[]</td>\n    </tr>\n    <tr>\n      <th>44</th>\n      <td>Incorrect Inheritance Order</td>\n      <td>Smart Contract</td>\n      <td>0</td>\n      <td>[]</td>\n    </tr>\n    <tr>\n      <th>45</th>\n      <td>Floating Pragma</td>\n      <td>Smart Contract</td>\n      <td>0</td>\n      <td>[]</td>\n    </tr>\n    <tr>\n      <th>48</th>\n      <td>Casting</td>\n      <td>Smart Contract</td>\n      <td>0</td>\n      <td>[]</td>\n    </tr>\n  </tbody>\n</table>\n</div>"
     },
     "execution_count": 6,
     "metadata": {},
     "output_type": "execute_result"
    }
   ],
   "source": [
    "# 2. Only the categories we include in the study\n",
    "incidents_per_ic_category = incidents_per_category.loc[incidents_per_category['category'].isin(['Smart Contract', 'Protocol'])]\n",
    "incidents_per_ic_category\n"
   ]
  },
  {
   "cell_type": "code",
   "execution_count": 7,
   "id": "acf21132",
   "metadata": {
    "ExecuteTime": {
     "end_time": "2023-06-20T08:10:20.864003Z",
     "start_time": "2023-06-20T08:10:20.832106Z"
    }
   },
   "outputs": [
    {
     "data": {
      "text/plain": "                  incident_title\n0          20210208_BTFinance_CS\n1          20210629_MerlinLab_RS\n2             20200419_LendfMe_S\n3           20211003_Compound_SR\n4                20200913_bzx_CS\n..                           ...\n122      20210718_ArrayFinance_S\n123                20210127_refi\n124     20220415_RikkeiFinance_S\n125        20200929_Eminence_CSR\n126  20210221_PrimitiveFinance_S\n\n[127 rows x 1 columns]",
      "text/html": "<div>\n<style scoped>\n    .dataframe tbody tr th:only-of-type {\n        vertical-align: middle;\n    }\n\n    .dataframe tbody tr th {\n        vertical-align: top;\n    }\n\n    .dataframe thead th {\n        text-align: right;\n    }\n</style>\n<table border=\"1\" class=\"dataframe\">\n  <thead>\n    <tr style=\"text-align: right;\">\n      <th></th>\n      <th>incident_title</th>\n    </tr>\n  </thead>\n  <tbody>\n    <tr>\n      <th>0</th>\n      <td>20210208_BTFinance_CS</td>\n    </tr>\n    <tr>\n      <th>1</th>\n      <td>20210629_MerlinLab_RS</td>\n    </tr>\n    <tr>\n      <th>2</th>\n      <td>20200419_LendfMe_S</td>\n    </tr>\n    <tr>\n      <th>3</th>\n      <td>20211003_Compound_SR</td>\n    </tr>\n    <tr>\n      <th>4</th>\n      <td>20200913_bzx_CS</td>\n    </tr>\n    <tr>\n      <th>...</th>\n      <td>...</td>\n    </tr>\n    <tr>\n      <th>122</th>\n      <td>20210718_ArrayFinance_S</td>\n    </tr>\n    <tr>\n      <th>123</th>\n      <td>20210127_refi</td>\n    </tr>\n    <tr>\n      <th>124</th>\n      <td>20220415_RikkeiFinance_S</td>\n    </tr>\n    <tr>\n      <th>125</th>\n      <td>20200929_Eminence_CSR</td>\n    </tr>\n    <tr>\n      <th>126</th>\n      <td>20210221_PrimitiveFinance_S</td>\n    </tr>\n  </tbody>\n</table>\n<p>127 rows × 1 columns</p>\n</div>"
     },
     "execution_count": 7,
     "metadata": {},
     "output_type": "execute_result"
    }
   ],
   "source": [
    "# 3. Count how many incidents are in scope\n",
    "# Protocols which have at least one Smart Contract or Protocol vulnerability\n",
    "# Note that they might also have non-smart contract or protocol related causes\n",
    "query = \"\"\"\n",
    "SELECT DISTINCT incident_title\n",
    "FROM Incident\n",
    "JOIN IncidentCause IC on Incident.incident_id = IC.incident_id\n",
    "JOIN Cause C on C.cause_id = IC.cause_id\n",
    "JOIN VulnerabilitiesMap VM on C.vuln_map_id = VM.vuln_map_id\n",
    "WHERE VM.category in ('Smart Contract', 'Protocol')\n",
    "\"\"\"\n",
    "incidents_in_scope = pd.read_sql(query, con)\n",
    "incidents = list(incidents_in_scope.incident_title)\n",
    "incidents_in_scope"
   ]
  },
  {
   "cell_type": "code",
   "execution_count": 8,
   "id": "77dea34d",
   "metadata": {
    "ExecuteTime": {
     "end_time": "2023-06-20T08:10:20.875308Z",
     "start_time": "2023-06-20T08:10:20.835588Z"
    }
   },
   "outputs": [
    {
     "data": {
      "text/plain": "               incident_title  COUNT(VC.vulnerable_contract_id)\n0             20200215_bZx_CS                                 1\n1              20200218_bZx_S                                 1\n2          20200418_Uniswap_S                                 1\n3          20200419_LendfMe_S                                 1\n4           20200618_Bancor_S                                 3\n..                        ...                               ...\n114        20220425_Medamon_S                                 2\n115         20220425_PI-DAO_S                                 2\n116     20220425_WienerDoge_S                                 2\n117  20220430_FeiProtocol_CSR                                 1\n118    20220722_THORChain_CSR                                 1\n\n[119 rows x 2 columns]",
      "text/html": "<div>\n<style scoped>\n    .dataframe tbody tr th:only-of-type {\n        vertical-align: middle;\n    }\n\n    .dataframe tbody tr th {\n        vertical-align: top;\n    }\n\n    .dataframe thead th {\n        text-align: right;\n    }\n</style>\n<table border=\"1\" class=\"dataframe\">\n  <thead>\n    <tr style=\"text-align: right;\">\n      <th></th>\n      <th>incident_title</th>\n      <th>COUNT(VC.vulnerable_contract_id)</th>\n    </tr>\n  </thead>\n  <tbody>\n    <tr>\n      <th>0</th>\n      <td>20200215_bZx_CS</td>\n      <td>1</td>\n    </tr>\n    <tr>\n      <th>1</th>\n      <td>20200218_bZx_S</td>\n      <td>1</td>\n    </tr>\n    <tr>\n      <th>2</th>\n      <td>20200418_Uniswap_S</td>\n      <td>1</td>\n    </tr>\n    <tr>\n      <th>3</th>\n      <td>20200419_LendfMe_S</td>\n      <td>1</td>\n    </tr>\n    <tr>\n      <th>4</th>\n      <td>20200618_Bancor_S</td>\n      <td>3</td>\n    </tr>\n    <tr>\n      <th>...</th>\n      <td>...</td>\n      <td>...</td>\n    </tr>\n    <tr>\n      <th>114</th>\n      <td>20220425_Medamon_S</td>\n      <td>2</td>\n    </tr>\n    <tr>\n      <th>115</th>\n      <td>20220425_PI-DAO_S</td>\n      <td>2</td>\n    </tr>\n    <tr>\n      <th>116</th>\n      <td>20220425_WienerDoge_S</td>\n      <td>2</td>\n    </tr>\n    <tr>\n      <th>117</th>\n      <td>20220430_FeiProtocol_CSR</td>\n      <td>1</td>\n    </tr>\n    <tr>\n      <th>118</th>\n      <td>20220722_THORChain_CSR</td>\n      <td>1</td>\n    </tr>\n  </tbody>\n</table>\n<p>119 rows × 2 columns</p>\n</div>"
     },
     "execution_count": 8,
     "metadata": {},
     "output_type": "execute_result"
    }
   ],
   "source": [
    "### 4. For each Incident that we have in our dataset count how many contracts where attacked\n",
    "query = \"\"\"\n",
    "SELECT incident_title, COUNT(VC.vulnerable_contract_id)\n",
    "FROM Incident\n",
    "JOIN Victim V on Incident.incident_id = V.incident_id\n",
    "JOIN VulnerableContract VC on V.victim_id = VC.victim_id\n",
    "WHERE incident_title in ({})\n",
    "GROUP BY incident_title\n",
    "\"\"\".format(','.join('\"' + i + '\"' for i in incidents))\n",
    "vuln_contracts_per_incident = pd.read_sql(query, con)\n",
    "vuln_contracts_per_incident"
   ]
  },
  {
   "cell_type": "code",
   "execution_count": 9,
   "id": "c1a323a5",
   "metadata": {
    "ExecuteTime": {
     "end_time": "2023-06-20T08:10:20.883306Z",
     "start_time": "2023-06-20T08:10:20.841371Z"
    }
   },
   "outputs": [
    {
     "data": {
      "text/plain": "               incident_title  COUNT(vulnerable_contract_id)\n0             20200215_bZx_CS                              1\n1              20200218_bZx_S                              1\n2          20200418_Uniswap_S                              1\n3          20200419_LendfMe_S                              1\n4           20200618_Bancor_S                              3\n..                        ...                            ...\n97            20220421_ZEED_S                              1\n98         20220425_Medamon_S                              2\n99          20220425_PI-DAO_S                              1\n100     20220425_WienerDoge_S                              2\n101  20220430_FeiProtocol_CSR                              1\n\n[102 rows x 2 columns]",
      "text/html": "<div>\n<style scoped>\n    .dataframe tbody tr th:only-of-type {\n        vertical-align: middle;\n    }\n\n    .dataframe tbody tr th {\n        vertical-align: top;\n    }\n\n    .dataframe thead th {\n        text-align: right;\n    }\n</style>\n<table border=\"1\" class=\"dataframe\">\n  <thead>\n    <tr style=\"text-align: right;\">\n      <th></th>\n      <th>incident_title</th>\n      <th>COUNT(vulnerable_contract_id)</th>\n    </tr>\n  </thead>\n  <tbody>\n    <tr>\n      <th>0</th>\n      <td>20200215_bZx_CS</td>\n      <td>1</td>\n    </tr>\n    <tr>\n      <th>1</th>\n      <td>20200218_bZx_S</td>\n      <td>1</td>\n    </tr>\n    <tr>\n      <th>2</th>\n      <td>20200418_Uniswap_S</td>\n      <td>1</td>\n    </tr>\n    <tr>\n      <th>3</th>\n      <td>20200419_LendfMe_S</td>\n      <td>1</td>\n    </tr>\n    <tr>\n      <th>4</th>\n      <td>20200618_Bancor_S</td>\n      <td>3</td>\n    </tr>\n    <tr>\n      <th>...</th>\n      <td>...</td>\n      <td>...</td>\n    </tr>\n    <tr>\n      <th>97</th>\n      <td>20220421_ZEED_S</td>\n      <td>1</td>\n    </tr>\n    <tr>\n      <th>98</th>\n      <td>20220425_Medamon_S</td>\n      <td>2</td>\n    </tr>\n    <tr>\n      <th>99</th>\n      <td>20220425_PI-DAO_S</td>\n      <td>1</td>\n    </tr>\n    <tr>\n      <th>100</th>\n      <td>20220425_WienerDoge_S</td>\n      <td>2</td>\n    </tr>\n    <tr>\n      <th>101</th>\n      <td>20220430_FeiProtocol_CSR</td>\n      <td>1</td>\n    </tr>\n  </tbody>\n</table>\n<p>102 rows × 2 columns</p>\n</div>"
     },
     "execution_count": 9,
     "metadata": {},
     "output_type": "execute_result"
    }
   ],
   "source": [
    "# 5. Get incidents for which we have at least one contract with source code\n",
    "query = \"\"\"\n",
    "SELECT incident_title, COUNT(vulnerable_contract_id)\n",
    "FROM Incident\n",
    "JOIN Victim V on Incident.incident_id = V.incident_id\n",
    "JOIN VulnerableContract VC on V.victim_id = VC.victim_id\n",
    "WHERE incident_title in ({})\n",
    "AND VC.has_source = 1\n",
    "GROUP BY incident_title\n",
    "\"\"\".format(','.join('\"' + i + '\"' for i in incidents))\n",
    "incidents_with_source = pd.read_sql(query, con)\n",
    "incidents_with_source"
   ]
  },
  {
   "cell_type": "code",
   "execution_count": 10,
   "id": "6d210f6e",
   "metadata": {
    "ExecuteTime": {
     "end_time": "2023-06-20T08:10:20.883665Z",
     "start_time": "2023-06-20T08:10:20.846874Z"
    }
   },
   "outputs": [
    {
     "data": {
      "text/plain": "               incident_title  Errors  Success  Success Rate\n114    20220722_THORChain_CSR       3        4      0.571429\n55      20210629_THORChain_CS       3        4      0.571429\n56        20210710_Anyswap_SR       3        4      0.571429\n62     20210730_Levyathan_CSR       3        4      0.571429\n64    20210804_WaultFinance_S       3        4      0.571429\n..                        ...     ...      ...           ...\n90   20211211_SorbetFinance_S       0        2      1.000000\n35       20210501_Spartan_CSR       0        7      1.000000\n88            20211127_dydx_S       0        2      1.000000\n67     20210812_NekoNetwork_S       0        2      1.000000\n61       20210720_SanshuInu_S       0        7      1.000000\n\n[115 rows x 4 columns]",
      "text/html": "<div>\n<style scoped>\n    .dataframe tbody tr th:only-of-type {\n        vertical-align: middle;\n    }\n\n    .dataframe tbody tr th {\n        vertical-align: top;\n    }\n\n    .dataframe thead th {\n        text-align: right;\n    }\n</style>\n<table border=\"1\" class=\"dataframe\">\n  <thead>\n    <tr style=\"text-align: right;\">\n      <th></th>\n      <th>incident_title</th>\n      <th>Errors</th>\n      <th>Success</th>\n      <th>Success Rate</th>\n    </tr>\n  </thead>\n  <tbody>\n    <tr>\n      <th>114</th>\n      <td>20220722_THORChain_CSR</td>\n      <td>3</td>\n      <td>4</td>\n      <td>0.571429</td>\n    </tr>\n    <tr>\n      <th>55</th>\n      <td>20210629_THORChain_CS</td>\n      <td>3</td>\n      <td>4</td>\n      <td>0.571429</td>\n    </tr>\n    <tr>\n      <th>56</th>\n      <td>20210710_Anyswap_SR</td>\n      <td>3</td>\n      <td>4</td>\n      <td>0.571429</td>\n    </tr>\n    <tr>\n      <th>62</th>\n      <td>20210730_Levyathan_CSR</td>\n      <td>3</td>\n      <td>4</td>\n      <td>0.571429</td>\n    </tr>\n    <tr>\n      <th>64</th>\n      <td>20210804_WaultFinance_S</td>\n      <td>3</td>\n      <td>4</td>\n      <td>0.571429</td>\n    </tr>\n    <tr>\n      <th>...</th>\n      <td>...</td>\n      <td>...</td>\n      <td>...</td>\n      <td>...</td>\n    </tr>\n    <tr>\n      <th>90</th>\n      <td>20211211_SorbetFinance_S</td>\n      <td>0</td>\n      <td>2</td>\n      <td>1.000000</td>\n    </tr>\n    <tr>\n      <th>35</th>\n      <td>20210501_Spartan_CSR</td>\n      <td>0</td>\n      <td>7</td>\n      <td>1.000000</td>\n    </tr>\n    <tr>\n      <th>88</th>\n      <td>20211127_dydx_S</td>\n      <td>0</td>\n      <td>2</td>\n      <td>1.000000</td>\n    </tr>\n    <tr>\n      <th>67</th>\n      <td>20210812_NekoNetwork_S</td>\n      <td>0</td>\n      <td>2</td>\n      <td>1.000000</td>\n    </tr>\n    <tr>\n      <th>61</th>\n      <td>20210720_SanshuInu_S</td>\n      <td>0</td>\n      <td>7</td>\n      <td>1.000000</td>\n    </tr>\n  </tbody>\n</table>\n<p>115 rows × 4 columns</p>\n</div>"
     },
     "execution_count": 10,
     "metadata": {},
     "output_type": "execute_result"
    }
   ],
   "source": [
    "# 6. For each incident check how many analyses what was the success rate of the analyses\n",
    "query = \"\"\"\n",
    "SELECT incident_title,\n",
    "       SUM(CASE WHEN error = 'True' THEN 1 ELSE 0 ENd) Errors,\n",
    "       SUM(CASE WHEN error = 'False' THEN 1 ELSE 0 ENd) Success\n",
    "FROM Incident\n",
    "JOIN Victim V on Incident.incident_id = V.incident_id\n",
    "JOIN VulnerableContract VC on V.victim_id = VC.victim_id\n",
    "JOIN RetroAnalysis RA on VC.vulnerable_contract_id = RA.vulnerable_contract_id\n",
    "WHERE incident_title in ({})\n",
    "GROUP BY incident_title\n",
    "\"\"\".format(','.join('\"' + i + '\"' for i in incidents))\n",
    "analyses_per_incident = pd.read_sql(query, con)\n",
    "analyses_per_incident[\"Success Rate\"] = analyses_per_incident[\"Success\"] / (analyses_per_incident[\"Success\"] + analyses_per_incident[\"Errors\"])\n",
    "analyses_per_incident.sort_values(by=['Success Rate'])"
   ]
  },
  {
   "cell_type": "code",
   "execution_count": 11,
   "id": "c597327f",
   "metadata": {
    "ExecuteTime": {
     "end_time": "2023-06-20T08:10:20.899951Z",
     "start_time": "2023-06-20T08:10:20.853188Z"
    }
   },
   "outputs": [
    {
     "data": {
      "text/plain": "         tool is_bytecode  Errors  Success  Success Rate\n0  confuzzius       False     128       26      0.168831\n1     mythril       False      21      133      0.863636\n3      oyente       False      21      133      0.863636\n5     slither       False       2      152      0.987013\n2     mythril        True       0      172      1.000000\n4      oyente        True       0      172      1.000000\n6     solhint       False       0      154      1.000000",
      "text/html": "<div>\n<style scoped>\n    .dataframe tbody tr th:only-of-type {\n        vertical-align: middle;\n    }\n\n    .dataframe tbody tr th {\n        vertical-align: top;\n    }\n\n    .dataframe thead th {\n        text-align: right;\n    }\n</style>\n<table border=\"1\" class=\"dataframe\">\n  <thead>\n    <tr style=\"text-align: right;\">\n      <th></th>\n      <th>tool</th>\n      <th>is_bytecode</th>\n      <th>Errors</th>\n      <th>Success</th>\n      <th>Success Rate</th>\n    </tr>\n  </thead>\n  <tbody>\n    <tr>\n      <th>0</th>\n      <td>confuzzius</td>\n      <td>False</td>\n      <td>128</td>\n      <td>26</td>\n      <td>0.168831</td>\n    </tr>\n    <tr>\n      <th>1</th>\n      <td>mythril</td>\n      <td>False</td>\n      <td>21</td>\n      <td>133</td>\n      <td>0.863636</td>\n    </tr>\n    <tr>\n      <th>3</th>\n      <td>oyente</td>\n      <td>False</td>\n      <td>21</td>\n      <td>133</td>\n      <td>0.863636</td>\n    </tr>\n    <tr>\n      <th>5</th>\n      <td>slither</td>\n      <td>False</td>\n      <td>2</td>\n      <td>152</td>\n      <td>0.987013</td>\n    </tr>\n    <tr>\n      <th>2</th>\n      <td>mythril</td>\n      <td>True</td>\n      <td>0</td>\n      <td>172</td>\n      <td>1.000000</td>\n    </tr>\n    <tr>\n      <th>4</th>\n      <td>oyente</td>\n      <td>True</td>\n      <td>0</td>\n      <td>172</td>\n      <td>1.000000</td>\n    </tr>\n    <tr>\n      <th>6</th>\n      <td>solhint</td>\n      <td>False</td>\n      <td>0</td>\n      <td>154</td>\n      <td>1.000000</td>\n    </tr>\n  </tbody>\n</table>\n</div>"
     },
     "execution_count": 11,
     "metadata": {},
     "output_type": "execute_result"
    }
   ],
   "source": [
    "# 7. For each tool count its success rate\n",
    "query = \"\"\"\n",
    "SELECT tool, is_bytecode,\n",
    "       SUM(CASE WHEN error = 'True' THEN 1 ELSE 0 ENd) Errors,\n",
    "       SUM(CASE WHEN error = 'False' THEN 1 ELSE 0 ENd) Success\n",
    "FROM RetroAnalysis\n",
    "GROUP BY tool, is_bytecode\n",
    "\"\"\"\n",
    "success_rate_per_tool = pd.read_sql(query, con)\n",
    "success_rate_per_tool[\"Success Rate\"] = success_rate_per_tool[\"Success\"] / (success_rate_per_tool[\"Success\"] + success_rate_per_tool[\"Errors\"])\n",
    "success_rate_per_tool.sort_values(by=['Success Rate'])"
   ]
  },
  {
   "cell_type": "code",
   "execution_count": 12,
   "id": "b793463f",
   "metadata": {
    "ExecuteTime": {
     "end_time": "2023-06-20T08:10:20.900402Z",
     "start_time": "2023-06-20T08:10:20.859379Z"
    }
   },
   "outputs": [
    {
     "name": "stdout",
     "output_type": "stream",
     "text": [
      "\n",
      "SELECT incident_title, contract_address, tool, is_bytecode, vuln_title, occurences\n",
      "FROM Incident\n",
      "JOIN Victim V on Incident.incident_id = V.incident_id\n",
      "JOIN VulnerableContract VC on V.victim_id = VC.victim_id\n",
      "JOIN RetroAnalysis RA on VC.vulnerable_contract_id = RA.vulnerable_contract_id\n",
      "JOIN RetroFindings RF on RA.analysis_id = RF.analysis_id\n",
      "JOIN SmartContractVulnerabilities SCV on RF.vulnerability_type_id = SCV.vulnerability_type_id\n",
      "JOIN VulnerabilitiesMap VM on SCV.vuln_map_id = VM.vuln_map_id\n",
      "WHERE incident_title in (\"20210208_BTFinance_CS\",\"20210629_MerlinLab_RS\",\"20200419_LendfMe_S\",\"20211003_Compound_SR\",\"20200913_bzx_CS\",\"20220320_Lifinance_S\",\"20200218_bZx_S\",\"20210622_ElevenFinance_CSR\",\"20210810_PunkProtocol_CSR\",\"20210816_XSURGE_S\",\"20210603_PancakeHunny_S\",\"20210730_Levyathan_CSR\",\"20220402_InverseFinance_CR\",\"20211123_PloutozFinance_S\",\"20200913_SoftYearn_CS\",\"20201026_HarvestFinance_CSR\",\"20200418_Uniswap_S\",\"20210522_BoggedFinance_S\",\"20220722_THORChain_CSR\",\"20201117_88mph_S\",\"20210527_WildCredit_S\",\"20210621_ImpossibleFinance_CS\",\"20211126_Lever_S\",\"20201011_WLEO_S\",\"20211127_dydx_S\",\"20200629_Balancer_S\",\"20201128_SushiSwap_S\",\"20220425_Medamon_S\",\"20210125_SushiSwap_S\",\"20220128_FlurryFinance_S\",\"20220327_RevestFinance_SR\",\"20220201_MOX_S\",\"20210627_SharedStake_S\",\"20210227_Furucombo_CSR\",\"20210527_JulSwap_S\",\"20220127_Qubit_CSR\",\"20201117_OriginDollar_CSR\",\"20210710_Chainswap_CSR\",\"20201106_CheeseBank_S\",\"20210903_DAOMaker_CS\",\"20220411_CFToken_S\",\"20220312_Paraluni_S\",\"20210919_pNetwork_CS\",\"20211102_VesperFinance_S\",\"20211006_MyFarmPet_S\",\"20201228_CoverProtocol_CSR\",\"20211020_PancakeHunny_CSR\",\"20210508_RariCapital_CSR\",\"20210408_UraniumFinance_S\",\"20210208_GrowthDefi_CR\",\"20210625_xWinFinance_S\",\"20210507_ValueDeFi_SR\",\"20220412_ElephantMoney_CRS\",\"20210524_AutoSharkFinance_CSR\",\"20200215_bZx_CS\",\"20201121_PickleFinance_CSR\",\"20220425_WienerDoge_S\",\"20220421_ZEED_S\",\"20201114_ValueDeFi_CSR\",\"20211221_VisorFinance_CSR\",\"20210629_THORChain_CS\",\"20210404_ForceDAO_CS\",\"20210526_MerlinLab_CR\",\"20220118_Multichain_S\",\"20210529_BeltFinance_CSR\",\"20210812_PineconeFinance_S\",\"20210505_ValueDeFi_SR\",\"20210713_DeFiPie_S\",\"20210610_EvoDefi_S\",\"20210714_ApeRocket_S\",\"20200618_Bancor_S\",\"20210929_Compound_CSR\",\"20211110_Curve_S\",\"20211029_AutoSharkFinance_S\",\"20210204_YearnFinance_CSR\",\"20210715_THORChain_CSR\",\"20220430_FeiProtocol_CSR\",\"20210803_PopsicleFinance_CSR\",\"20200628_Balancer_CS\",\"20210710_Anyswap_SR\",\"20220114_FloatProtocol_S\",\"20210312_TSD_S\",\"20210501_Spartan_CSR\",\"20210829_xToken_SR\",\"20210812_NekoNetwork_S\",\"20201217_WarpFinance_CSR\",\"20211027_CreamFinance_CSR\",\"20200804_Opyn_CS\",\"20210810_PolyNetwork_CSR\",\"20210526_MerlinLab_CSR\",\"20210804_WaultFinance_S\",\"20220425_PI-DAO_S\",\"20211231_VesperFinance_S\",\"20210520_PancakeBunny_CSR\",\"20211126_VisorFinance_S\",\"20200920_SodaFinance_S\",\"20211001_AutoSharkFinance_S\",\"20211130_MonoX_CSR\",\"20220118_Crosswise_S\",\"20201008_DeFiSaver_S\",\"20211014_IndexedFinance_CSR\",\"20210318_SILFinance_S\",\"20220417_Beanstalk_SCR\",\"2020117_OriginDollar_CSR\",\"20220205_Meterio_CSR\",\"20210213_CreamFinance_CSR\",\"20220217_RigoBlock_S\",\"20210308_DODO_CSR\",\"20211023_AlphaFinance_S\",\"20210914_KlondikeFinance_S\",\"20210512_XToken_CSR\",\"20200824_YFValue_S\",\"20210527_BurgerSwap_S\",\"20211121_Formation\",\"20201112_Akropolis_S\",\"20211230_SashimiSwap_S\",\"20210830_CreamFinance_CSR\",\"20211228_DEXTools_S\",\"20200630_VETH_S\",\"20210720_SanshuInu_S\",\"20220210_BuildFinance_S\",\"20211211_SorbetFinance_S\",\"20210718_ArrayFinance_S\",\"20210127_refi\",\"20220415_RikkeiFinance_S\",\"20200929_Eminence_CSR\",\"20210221_PrimitiveFinance_S\")\n",
      "GROUP BY incident_title, contract_address, tool, is_bytecode, vuln_title, occurences\n",
      "\n"
     ]
    }
   ],
   "source": [
    "# 8. For each tool check if there is any findings for the specific bug\n",
    "# Get incidents and vulnerabilities of each incident\n",
    "query = \"\"\"\n",
    "SELECT incident_title, vuln_title\n",
    "FROM Incident\n",
    "JOIN IncidentCause IC on Incident.incident_id = IC.incident_id\n",
    "JOIN Cause C on C.cause_id = IC.cause_id\n",
    "JOIN VulnerabilitiesMap VM on C.vuln_map_id = VM.vuln_map_id\n",
    "WHERE VM.category in ('Smart Contract', 'Protocol')\n",
    "\"\"\"\n",
    "df_incidents_vulnerabilities = pd.read_sql(query, con)\n",
    "qset = cur.execute(query)\n",
    "incidents_vulnerabilities = defaultdict(set)\n",
    "# Get for incident \n",
    "for incident_title, vuln_title in qset:\n",
    "    incidents_vulnerabilities[incident_title].add(vuln_title)\n",
    "# If we do Left join to SCV and VM we'll also get vuln_title = null which represents warnings\n",
    "query = \"\"\"\n",
    "SELECT incident_title, contract_address, tool, is_bytecode, vuln_title, occurences\n",
    "FROM Incident\n",
    "JOIN Victim V on Incident.incident_id = V.incident_id\n",
    "JOIN VulnerableContract VC on V.victim_id = VC.victim_id\n",
    "JOIN RetroAnalysis RA on VC.vulnerable_contract_id = RA.vulnerable_contract_id\n",
    "JOIN RetroFindings RF on RA.analysis_id = RF.analysis_id\n",
    "JOIN SmartContractVulnerabilities SCV on RF.vulnerability_type_id = SCV.vulnerability_type_id\n",
    "JOIN VulnerabilitiesMap VM on SCV.vuln_map_id = VM.vuln_map_id\n",
    "WHERE incident_title in ({})\n",
    "GROUP BY incident_title, contract_address, tool, is_bytecode, vuln_title, occurences\n",
    "\"\"\".format(','.join('\"' + i + '\"' for i in incidents))\n",
    "print(query)"
   ]
  },
  {
   "cell_type": "code",
   "execution_count": 13,
   "id": "35711320",
   "metadata": {
    "ExecuteTime": {
     "end_time": "2023-06-20T08:10:20.900629Z",
     "start_time": "2023-06-20T08:10:20.872192Z"
    }
   },
   "outputs": [
    {
     "name": "stdout",
     "output_type": "stream",
     "text": [
      "Total Incidents: 127, At least one: 16, All 6\n"
     ]
    }
   ],
   "source": [
    "df_incidents_findings = pd.read_sql(query, con)\n",
    "qset = cur.execute(query)\n",
    "incidents_findings = defaultdict(set)\n",
    "for incident_title, _, _, _, vuln_title, _ in qset:\n",
    "    incidents_findings[incident_title].add(vuln_title)\n",
    "\n",
    "# incident_title, total_vulns, total_detected_vulns\n",
    "incidents_aggr_results = []\n",
    "for incident, vulns in incidents_vulnerabilities.items():\n",
    "    if incident not in incidents_findings:\n",
    "        detected = 0\n",
    "    else:\n",
    "        detected = sum(1 for vuln in vulns if vuln in incidents_findings[incident])\n",
    "    incidents_aggr_results.append([incident, len(vulns), detected])\n",
    "df_incidents_aggr_results = pd.DataFrame(\n",
    "    incidents_aggr_results, columns = [\"Incident\", \"Total Vulns\", \"Detected Vulns\"]\n",
    ")\n",
    "\n",
    "df_incidents_aggr_results[\"At least one\"] = df_incidents_aggr_results[\"Detected Vulns\"] > 0\n",
    "df_incidents_aggr_results[\"All\"] = df_incidents_aggr_results[\"Total Vulns\"] == df_incidents_aggr_results[\"Detected Vulns\"]\n",
    "print(\"Total Incidents: {}, At least one: {}, All {}\".format(\n",
    "    len(df_incidents_aggr_results.index),\n",
    "    len(df_incidents_aggr_results[df_incidents_aggr_results['At least one'] == True]),\n",
    "    len(df_incidents_aggr_results[df_incidents_aggr_results['All'] == True]),\n",
    "))"
   ]
  },
  {
   "cell_type": "code",
   "execution_count": 14,
   "id": "81fb64d5",
   "metadata": {
    "scrolled": true,
    "ExecuteTime": {
     "end_time": "2023-06-20T08:10:20.979230Z",
     "start_time": "2023-06-20T08:10:20.877289Z"
    }
   },
   "outputs": [
    {
     "name": "stderr",
     "output_type": "stream",
     "text": [
      "/var/folders/fq/m8lfjxgn0973ymrn76p0x_cw0000gn/T/ipykernel_1436/544461778.py:13: SettingWithCopyWarning: \n",
      "A value is trying to be set on a copy of a slice from a DataFrame.\n",
      "Try using .loc[row_indexer,col_indexer] = value instead\n",
      "\n",
      "See the caveats in the documentation: https://pandas.pydata.org/pandas-docs/stable/user_guide/indexing.html#returning-a-view-versus-a-copy\n",
      "  prev_incidents_per_category['Detectable'] = list(len(i) for i in vulnerabilities_detected.values())\n",
      "/var/folders/fq/m8lfjxgn0973ymrn76p0x_cw0000gn/T/ipykernel_1436/544461778.py:14: SettingWithCopyWarning: \n",
      "A value is trying to be set on a copy of a slice from a DataFrame.\n",
      "Try using .loc[row_indexer,col_indexer] = value instead\n",
      "\n",
      "See the caveats in the documentation: https://pandas.pydata.org/pandas-docs/stable/user_guide/indexing.html#returning-a-view-versus-a-copy\n",
      "  prev_incidents_per_category['detectable_ids'] = list(vulnerabilities_detected.values())\n",
      "/var/folders/fq/m8lfjxgn0973ymrn76p0x_cw0000gn/T/ipykernel_1436/544461778.py:15: SettingWithCopyWarning: \n",
      "A value is trying to be set on a copy of a slice from a DataFrame.\n",
      "Try using .loc[row_indexer,col_indexer] = value instead\n",
      "\n",
      "See the caveats in the documentation: https://pandas.pydata.org/pandas-docs/stable/user_guide/indexing.html#returning-a-view-versus-a-copy\n",
      "  prev_incidents_per_category['Findings'] = list(len(i) for i in vulnerabilities_findings.values())\n",
      "/var/folders/fq/m8lfjxgn0973ymrn76p0x_cw0000gn/T/ipykernel_1436/544461778.py:16: SettingWithCopyWarning: \n",
      "A value is trying to be set on a copy of a slice from a DataFrame.\n",
      "Try using .loc[row_indexer,col_indexer] = value instead\n",
      "\n",
      "See the caveats in the documentation: https://pandas.pydata.org/pandas-docs/stable/user_guide/indexing.html#returning-a-view-versus-a-copy\n",
      "  prev_incidents_per_category['detectable_ids'] = list(vulnerabilities_detected.values())\n",
      "/var/folders/fq/m8lfjxgn0973ymrn76p0x_cw0000gn/T/ipykernel_1436/544461778.py:17: SettingWithCopyWarning: \n",
      "A value is trying to be set on a copy of a slice from a DataFrame.\n",
      "Try using .loc[row_indexer,col_indexer] = value instead\n",
      "\n",
      "See the caveats in the documentation: https://pandas.pydata.org/pandas-docs/stable/user_guide/indexing.html#returning-a-view-versus-a-copy\n",
      "  prev_incidents_per_category['findings_ids'] = list(vulnerabilities_findings.values())\n"
     ]
    },
    {
     "data": {
      "text/plain": "                                           vuln_title        category  total  \\\n1             Absence of coding logic or sanity check  Smart Contract     42   \n2                        On-chain oracle manipulation        Protocol     29   \n3                                          Reentrancy  Smart Contract     13   \n5           Liquidity borrow, purchase, mint, deposit        Protocol     10   \n6                         Camouflage a token contract        Protocol      9   \n7                      Token standard incompatibility        Protocol      8   \n8                     Function/State Visibility Error  Smart Contract      8   \n9               Other unsafe DeFi protocol dependency        Protocol      7   \n11  Other inconsistent, improper or unprotected ac...  Smart Contract      5   \n13                                       Logic Errors  Smart Contract      5   \n14                         Unfair slippage protection        Protocol      4   \n15                         Unfair liquidity providing        Protocol      4   \n16                  Direct call to untrusted contract  Smart Contract      4   \n17                     Other protocol vulnerabilities        Protocol      3   \n18                                  Governance attack        Protocol      3   \n19                       Transaction Order Dependence        Protocol      2   \n20                              Other coding mistakes  Smart Contract      2   \n22                   Delegatecall to Untrusted Callee  Smart Contract      2   \n24                    Unsafe call to phantom function        Protocol      1   \n25   Other unfair or unsafe DeFi protocol interaction        Protocol      1   \n27               Improper asset locks or frozen asset  Smart Contract      1   \n28                    Camouflage a non-token contract        Protocol      1   \n29                                    Weak Randomness        Protocol      0   \n30                  Unsafe or infinite token approval        Protocol      0   \n32                  Unhandled or mishandled exception  Smart Contract      0   \n33                  Unencrypted Private Data On-Chain  Smart Contract      0   \n34                  Unbounded or gas costly operation  Smart Contract      0   \n35          Transaction / strategy / signature replay        Protocol      0   \n36                               Timestamp Dependence        Protocol      0   \n37                    Signature verification mistakes  Smart Contract      0   \n38                                      Short address  Smart Contract      0   \n39                          Shadowing State Variables  Smart Contract      0   \n40              Outdated compiler or solidity version  Smart Contract      0   \n41               Other smart contract vulnerabilities  Smart Contract      0   \n42             Message call with hardcoded gas amount  Smart Contract      0   \n43                     Integer Overflow and Underflow  Smart Contract      0   \n44                        Incorrect Inheritance Order  Smart Contract      0   \n45                                    Floating Pragma  Smart Contract      0   \n48                                            Casting  Smart Contract      0   \n\n                                                  ids  Detectable  \\\n1   [20220312_Paraluni_S, 20210810_PunkProtocol_CS...           0   \n2   [20210603_PancakeHunny_S, 20211006_MyFarmPet_S...           0   \n3   [20220312_Paraluni_S, 2020117_OriginDollar_CSR...          11   \n5   [2020117_OriginDollar_CSR, 20211123_PloutozFin...           0   \n6   [20220312_Paraluni_S, 20201011_WLEO_S, 2021031...           0   \n7   [20220425_WienerDoge_S, 20220327_RevestFinance...           0   \n8   [20200630_VETH_S, 20200618_Bancor_S, 20210527_...           5   \n9   [20210508_RariCapital_CSR, 20210221_PrimitiveF...           0   \n11  [20210318_SILFinance_S, 20220201_MOX_S, 202109...           0   \n13  [20201228_CoverProtocol_CSR, 20210507_ValueDeF...           0   \n14  [20211014_IndexedFinance_CSR, 20210625_xWinFin...           0   \n15  [20210501_Spartan_CSR, 20210718_ArrayFinance_S...           0   \n16  [20210627_SharedStake_S, 20211127_dydx_S, 2021...           0   \n17  [20210522_BoggedFinance_S, 20211121_Formation,...           0   \n18  [20211110_Curve_S, 20220417_Beanstalk_SCR, 202...           0   \n19  [20211211_SorbetFinance_S, 20220402_InverseFin...           0   \n20       [20210710_Anyswap_SR, 20210929_Compound_CSR]           0   \n22  [20210810_PunkProtocol_CSR, 20211221_VisorFina...           0   \n24                            [20220118_Multichain_S]           0   \n25                                  [20200215_bZx_CS]           0   \n27                               [20200824_YFValue_S]           0   \n28                        [20210213_CreamFinance_CSR]           0   \n29                                                 []           0   \n30                                                 []           0   \n32                                                 []           0   \n33                                                 []           0   \n34                                                 []           0   \n35                                                 []           0   \n36                                                 []           0   \n37                                                 []           0   \n38                                                 []           0   \n39                                                 []           0   \n40                                                 []           0   \n41                                                 []           0   \n42                                                 []           0   \n43                                                 []           0   \n44                                                 []           0   \n45                                                 []           0   \n48                                                 []           0   \n\n                                       detectable_ids  Findings  \\\n1                                                  {}         0   \n2                                                  {}         0   \n3   {20220312_Paraluni_S, 20220327_RevestFinance_S...        82   \n5                                                  {}         0   \n6                                                  {}         0   \n7                                                  {}         0   \n8   {20200630_VETH_S, 20200618_Bancor_S, 20210527_...        67   \n9                                                  {}         0   \n11                                                 {}        19   \n13                                                 {}         0   \n14                                                 {}         0   \n15                                                 {}         0   \n16                                                 {}         0   \n17                                                 {}         0   \n18                                                 {}         0   \n19                                                 {}         1   \n20                                                 {}         0   \n22                                                 {}         5   \n24                                                 {}         0   \n25                                                 {}         0   \n27                                                 {}         8   \n28                                                 {}         0   \n29                                                 {}        11   \n30                                                 {}         0   \n32                                                 {}        93   \n33                                                 {}         0   \n34                                                 {}        17   \n35                                                 {}         0   \n36                                                 {}        69   \n37                                                 {}         0   \n38                                                 {}         0   \n39                                                 {}        55   \n40                                                 {}       109   \n41                                                 {}         0   \n42                                                 {}         0   \n43                                                 {}        69   \n44                                                 {}         0   \n45                                                 {}         0   \n48                                                 {}         0   \n\n                                         findings_ids  \n1                                                  {}  \n2                                                  {}  \n3   {20210627_SharedStake_S, 20211006_MyFarmPet_S,...  \n5                                                  {}  \n6                                                  {}  \n7                                                  {}  \n8   {20220312_Paraluni_S, 20210603_PancakeHunny_S,...  \n9                                                  {}  \n11  {20201228_CoverProtocol_CSR, 20201128_SushiSwa...  \n13                                                 {}  \n14                                                 {}  \n15                                                 {}  \n16                                                 {}  \n17                                                 {}  \n18                                                 {}  \n19                                   {20200218_bZx_S}  \n20                                                 {}  \n22  {20210830_CreamFinance_CSR, 20210710_Chainswap...  \n24                                                 {}  \n25                                                 {}  \n27  {20220312_Paraluni_S, 20220421_ZEED_S, 2020061...  \n28                                                 {}  \n29  {20210603_PancakeHunny_S, 20220425_WienerDoge_...  \n30                                                 {}  \n32  {20210627_SharedStake_S, 20211006_MyFarmPet_S,...  \n33                                                 {}  \n34  {20210622_ElevenFinance_CSR, 20211123_PloutozF...  \n35                                                 {}  \n36  {20210627_SharedStake_S, 20210603_PancakeHunny...  \n37                                                 {}  \n38                                                 {}  \n39  {20210627_SharedStake_S, 20210603_PancakeHunny...  \n40  {20210627_SharedStake_S, 20200628_Balancer_CS,...  \n41                                                 {}  \n42                                                 {}  \n43  {20220312_Paraluni_S, 20210603_PancakeHunny_S,...  \n44                                                 {}  \n45                                                 {}  \n48                                                 {}  ",
      "text/html": "<div>\n<style scoped>\n    .dataframe tbody tr th:only-of-type {\n        vertical-align: middle;\n    }\n\n    .dataframe tbody tr th {\n        vertical-align: top;\n    }\n\n    .dataframe thead th {\n        text-align: right;\n    }\n</style>\n<table border=\"1\" class=\"dataframe\">\n  <thead>\n    <tr style=\"text-align: right;\">\n      <th></th>\n      <th>vuln_title</th>\n      <th>category</th>\n      <th>total</th>\n      <th>ids</th>\n      <th>Detectable</th>\n      <th>detectable_ids</th>\n      <th>Findings</th>\n      <th>findings_ids</th>\n    </tr>\n  </thead>\n  <tbody>\n    <tr>\n      <th>1</th>\n      <td>Absence of coding logic or sanity check</td>\n      <td>Smart Contract</td>\n      <td>42</td>\n      <td>[20220312_Paraluni_S, 20210810_PunkProtocol_CS...</td>\n      <td>0</td>\n      <td>{}</td>\n      <td>0</td>\n      <td>{}</td>\n    </tr>\n    <tr>\n      <th>2</th>\n      <td>On-chain oracle manipulation</td>\n      <td>Protocol</td>\n      <td>29</td>\n      <td>[20210603_PancakeHunny_S, 20211006_MyFarmPet_S...</td>\n      <td>0</td>\n      <td>{}</td>\n      <td>0</td>\n      <td>{}</td>\n    </tr>\n    <tr>\n      <th>3</th>\n      <td>Reentrancy</td>\n      <td>Smart Contract</td>\n      <td>13</td>\n      <td>[20220312_Paraluni_S, 2020117_OriginDollar_CSR...</td>\n      <td>11</td>\n      <td>{20220312_Paraluni_S, 20220327_RevestFinance_S...</td>\n      <td>82</td>\n      <td>{20210627_SharedStake_S, 20211006_MyFarmPet_S,...</td>\n    </tr>\n    <tr>\n      <th>5</th>\n      <td>Liquidity borrow, purchase, mint, deposit</td>\n      <td>Protocol</td>\n      <td>10</td>\n      <td>[2020117_OriginDollar_CSR, 20211123_PloutozFin...</td>\n      <td>0</td>\n      <td>{}</td>\n      <td>0</td>\n      <td>{}</td>\n    </tr>\n    <tr>\n      <th>6</th>\n      <td>Camouflage a token contract</td>\n      <td>Protocol</td>\n      <td>9</td>\n      <td>[20220312_Paraluni_S, 20201011_WLEO_S, 2021031...</td>\n      <td>0</td>\n      <td>{}</td>\n      <td>0</td>\n      <td>{}</td>\n    </tr>\n    <tr>\n      <th>7</th>\n      <td>Token standard incompatibility</td>\n      <td>Protocol</td>\n      <td>8</td>\n      <td>[20220425_WienerDoge_S, 20220327_RevestFinance...</td>\n      <td>0</td>\n      <td>{}</td>\n      <td>0</td>\n      <td>{}</td>\n    </tr>\n    <tr>\n      <th>8</th>\n      <td>Function/State Visibility Error</td>\n      <td>Smart Contract</td>\n      <td>8</td>\n      <td>[20200630_VETH_S, 20200618_Bancor_S, 20210527_...</td>\n      <td>5</td>\n      <td>{20200630_VETH_S, 20200618_Bancor_S, 20210527_...</td>\n      <td>67</td>\n      <td>{20220312_Paraluni_S, 20210603_PancakeHunny_S,...</td>\n    </tr>\n    <tr>\n      <th>9</th>\n      <td>Other unsafe DeFi protocol dependency</td>\n      <td>Protocol</td>\n      <td>7</td>\n      <td>[20210508_RariCapital_CSR, 20210221_PrimitiveF...</td>\n      <td>0</td>\n      <td>{}</td>\n      <td>0</td>\n      <td>{}</td>\n    </tr>\n    <tr>\n      <th>11</th>\n      <td>Other inconsistent, improper or unprotected ac...</td>\n      <td>Smart Contract</td>\n      <td>5</td>\n      <td>[20210318_SILFinance_S, 20220201_MOX_S, 202109...</td>\n      <td>0</td>\n      <td>{}</td>\n      <td>19</td>\n      <td>{20201228_CoverProtocol_CSR, 20201128_SushiSwa...</td>\n    </tr>\n    <tr>\n      <th>13</th>\n      <td>Logic Errors</td>\n      <td>Smart Contract</td>\n      <td>5</td>\n      <td>[20201228_CoverProtocol_CSR, 20210507_ValueDeF...</td>\n      <td>0</td>\n      <td>{}</td>\n      <td>0</td>\n      <td>{}</td>\n    </tr>\n    <tr>\n      <th>14</th>\n      <td>Unfair slippage protection</td>\n      <td>Protocol</td>\n      <td>4</td>\n      <td>[20211014_IndexedFinance_CSR, 20210625_xWinFin...</td>\n      <td>0</td>\n      <td>{}</td>\n      <td>0</td>\n      <td>{}</td>\n    </tr>\n    <tr>\n      <th>15</th>\n      <td>Unfair liquidity providing</td>\n      <td>Protocol</td>\n      <td>4</td>\n      <td>[20210501_Spartan_CSR, 20210718_ArrayFinance_S...</td>\n      <td>0</td>\n      <td>{}</td>\n      <td>0</td>\n      <td>{}</td>\n    </tr>\n    <tr>\n      <th>16</th>\n      <td>Direct call to untrusted contract</td>\n      <td>Smart Contract</td>\n      <td>4</td>\n      <td>[20210627_SharedStake_S, 20211127_dydx_S, 2021...</td>\n      <td>0</td>\n      <td>{}</td>\n      <td>0</td>\n      <td>{}</td>\n    </tr>\n    <tr>\n      <th>17</th>\n      <td>Other protocol vulnerabilities</td>\n      <td>Protocol</td>\n      <td>3</td>\n      <td>[20210522_BoggedFinance_S, 20211121_Formation,...</td>\n      <td>0</td>\n      <td>{}</td>\n      <td>0</td>\n      <td>{}</td>\n    </tr>\n    <tr>\n      <th>18</th>\n      <td>Governance attack</td>\n      <td>Protocol</td>\n      <td>3</td>\n      <td>[20211110_Curve_S, 20220417_Beanstalk_SCR, 202...</td>\n      <td>0</td>\n      <td>{}</td>\n      <td>0</td>\n      <td>{}</td>\n    </tr>\n    <tr>\n      <th>19</th>\n      <td>Transaction Order Dependence</td>\n      <td>Protocol</td>\n      <td>2</td>\n      <td>[20211211_SorbetFinance_S, 20220402_InverseFin...</td>\n      <td>0</td>\n      <td>{}</td>\n      <td>1</td>\n      <td>{20200218_bZx_S}</td>\n    </tr>\n    <tr>\n      <th>20</th>\n      <td>Other coding mistakes</td>\n      <td>Smart Contract</td>\n      <td>2</td>\n      <td>[20210710_Anyswap_SR, 20210929_Compound_CSR]</td>\n      <td>0</td>\n      <td>{}</td>\n      <td>0</td>\n      <td>{}</td>\n    </tr>\n    <tr>\n      <th>22</th>\n      <td>Delegatecall to Untrusted Callee</td>\n      <td>Smart Contract</td>\n      <td>2</td>\n      <td>[20210810_PunkProtocol_CSR, 20211221_VisorFina...</td>\n      <td>0</td>\n      <td>{}</td>\n      <td>5</td>\n      <td>{20210830_CreamFinance_CSR, 20210710_Chainswap...</td>\n    </tr>\n    <tr>\n      <th>24</th>\n      <td>Unsafe call to phantom function</td>\n      <td>Protocol</td>\n      <td>1</td>\n      <td>[20220118_Multichain_S]</td>\n      <td>0</td>\n      <td>{}</td>\n      <td>0</td>\n      <td>{}</td>\n    </tr>\n    <tr>\n      <th>25</th>\n      <td>Other unfair or unsafe DeFi protocol interaction</td>\n      <td>Protocol</td>\n      <td>1</td>\n      <td>[20200215_bZx_CS]</td>\n      <td>0</td>\n      <td>{}</td>\n      <td>0</td>\n      <td>{}</td>\n    </tr>\n    <tr>\n      <th>27</th>\n      <td>Improper asset locks or frozen asset</td>\n      <td>Smart Contract</td>\n      <td>1</td>\n      <td>[20200824_YFValue_S]</td>\n      <td>0</td>\n      <td>{}</td>\n      <td>8</td>\n      <td>{20220312_Paraluni_S, 20220421_ZEED_S, 2020061...</td>\n    </tr>\n    <tr>\n      <th>28</th>\n      <td>Camouflage a non-token contract</td>\n      <td>Protocol</td>\n      <td>1</td>\n      <td>[20210213_CreamFinance_CSR]</td>\n      <td>0</td>\n      <td>{}</td>\n      <td>0</td>\n      <td>{}</td>\n    </tr>\n    <tr>\n      <th>29</th>\n      <td>Weak Randomness</td>\n      <td>Protocol</td>\n      <td>0</td>\n      <td>[]</td>\n      <td>0</td>\n      <td>{}</td>\n      <td>11</td>\n      <td>{20210603_PancakeHunny_S, 20220425_WienerDoge_...</td>\n    </tr>\n    <tr>\n      <th>30</th>\n      <td>Unsafe or infinite token approval</td>\n      <td>Protocol</td>\n      <td>0</td>\n      <td>[]</td>\n      <td>0</td>\n      <td>{}</td>\n      <td>0</td>\n      <td>{}</td>\n    </tr>\n    <tr>\n      <th>32</th>\n      <td>Unhandled or mishandled exception</td>\n      <td>Smart Contract</td>\n      <td>0</td>\n      <td>[]</td>\n      <td>0</td>\n      <td>{}</td>\n      <td>93</td>\n      <td>{20210627_SharedStake_S, 20211006_MyFarmPet_S,...</td>\n    </tr>\n    <tr>\n      <th>33</th>\n      <td>Unencrypted Private Data On-Chain</td>\n      <td>Smart Contract</td>\n      <td>0</td>\n      <td>[]</td>\n      <td>0</td>\n      <td>{}</td>\n      <td>0</td>\n      <td>{}</td>\n    </tr>\n    <tr>\n      <th>34</th>\n      <td>Unbounded or gas costly operation</td>\n      <td>Smart Contract</td>\n      <td>0</td>\n      <td>[]</td>\n      <td>0</td>\n      <td>{}</td>\n      <td>17</td>\n      <td>{20210622_ElevenFinance_CSR, 20211123_PloutozF...</td>\n    </tr>\n    <tr>\n      <th>35</th>\n      <td>Transaction / strategy / signature replay</td>\n      <td>Protocol</td>\n      <td>0</td>\n      <td>[]</td>\n      <td>0</td>\n      <td>{}</td>\n      <td>0</td>\n      <td>{}</td>\n    </tr>\n    <tr>\n      <th>36</th>\n      <td>Timestamp Dependence</td>\n      <td>Protocol</td>\n      <td>0</td>\n      <td>[]</td>\n      <td>0</td>\n      <td>{}</td>\n      <td>69</td>\n      <td>{20210627_SharedStake_S, 20210603_PancakeHunny...</td>\n    </tr>\n    <tr>\n      <th>37</th>\n      <td>Signature verification mistakes</td>\n      <td>Smart Contract</td>\n      <td>0</td>\n      <td>[]</td>\n      <td>0</td>\n      <td>{}</td>\n      <td>0</td>\n      <td>{}</td>\n    </tr>\n    <tr>\n      <th>38</th>\n      <td>Short address</td>\n      <td>Smart Contract</td>\n      <td>0</td>\n      <td>[]</td>\n      <td>0</td>\n      <td>{}</td>\n      <td>0</td>\n      <td>{}</td>\n    </tr>\n    <tr>\n      <th>39</th>\n      <td>Shadowing State Variables</td>\n      <td>Smart Contract</td>\n      <td>0</td>\n      <td>[]</td>\n      <td>0</td>\n      <td>{}</td>\n      <td>55</td>\n      <td>{20210627_SharedStake_S, 20210603_PancakeHunny...</td>\n    </tr>\n    <tr>\n      <th>40</th>\n      <td>Outdated compiler or solidity version</td>\n      <td>Smart Contract</td>\n      <td>0</td>\n      <td>[]</td>\n      <td>0</td>\n      <td>{}</td>\n      <td>109</td>\n      <td>{20210627_SharedStake_S, 20200628_Balancer_CS,...</td>\n    </tr>\n    <tr>\n      <th>41</th>\n      <td>Other smart contract vulnerabilities</td>\n      <td>Smart Contract</td>\n      <td>0</td>\n      <td>[]</td>\n      <td>0</td>\n      <td>{}</td>\n      <td>0</td>\n      <td>{}</td>\n    </tr>\n    <tr>\n      <th>42</th>\n      <td>Message call with hardcoded gas amount</td>\n      <td>Smart Contract</td>\n      <td>0</td>\n      <td>[]</td>\n      <td>0</td>\n      <td>{}</td>\n      <td>0</td>\n      <td>{}</td>\n    </tr>\n    <tr>\n      <th>43</th>\n      <td>Integer Overflow and Underflow</td>\n      <td>Smart Contract</td>\n      <td>0</td>\n      <td>[]</td>\n      <td>0</td>\n      <td>{}</td>\n      <td>69</td>\n      <td>{20220312_Paraluni_S, 20210603_PancakeHunny_S,...</td>\n    </tr>\n    <tr>\n      <th>44</th>\n      <td>Incorrect Inheritance Order</td>\n      <td>Smart Contract</td>\n      <td>0</td>\n      <td>[]</td>\n      <td>0</td>\n      <td>{}</td>\n      <td>0</td>\n      <td>{}</td>\n    </tr>\n    <tr>\n      <th>45</th>\n      <td>Floating Pragma</td>\n      <td>Smart Contract</td>\n      <td>0</td>\n      <td>[]</td>\n      <td>0</td>\n      <td>{}</td>\n      <td>0</td>\n      <td>{}</td>\n    </tr>\n    <tr>\n      <th>48</th>\n      <td>Casting</td>\n      <td>Smart Contract</td>\n      <td>0</td>\n      <td>[]</td>\n      <td>0</td>\n      <td>{}</td>\n      <td>0</td>\n      <td>{}</td>\n    </tr>\n  </tbody>\n</table>\n</div>"
     },
     "execution_count": 14,
     "metadata": {},
     "output_type": "execute_result"
    }
   ],
   "source": [
    "# 9. For each category find how many incidents could have been prevented and how many were reported\n",
    "prev_incidents_per_category = incidents_per_ic_category\n",
    "\n",
    "vulnerabilities_detected = {t: set() for t in incidents_per_ic_category.vuln_title}\n",
    "vulnerabilities_findings = {t: set() for t in incidents_per_ic_category.vuln_title}\n",
    "for incident, vulns in incidents_vulnerabilities.items():\n",
    "    for vuln in vulns:\n",
    "        if vuln in incidents_findings[incident]:\n",
    "            vulnerabilities_detected[vuln].add(incident)\n",
    "    for vuln in incidents_findings[incident]:\n",
    "        if vuln in vulnerabilities_findings:\n",
    "            vulnerabilities_findings[vuln].add(incident)\n",
    "prev_incidents_per_category['Detectable'] = list(len(i) for i in vulnerabilities_detected.values())\n",
    "prev_incidents_per_category['detectable_ids'] = list(vulnerabilities_detected.values())\n",
    "prev_incidents_per_category['Findings'] = list(len(i) for i in vulnerabilities_findings.values())\n",
    "prev_incidents_per_category['detectable_ids'] = list(vulnerabilities_detected.values())\n",
    "prev_incidents_per_category['findings_ids'] = list(vulnerabilities_findings.values())\n",
    "prev_incidents_per_category"
   ]
  },
  {
   "cell_type": "code",
   "execution_count": 15,
   "id": "53607819",
   "metadata": {
    "ExecuteTime": {
     "end_time": "2023-06-20T08:10:21.001950Z",
     "start_time": "2023-06-20T08:10:20.897860Z"
    }
   },
   "outputs": [
    {
     "name": "stderr",
     "output_type": "stream",
     "text": [
      "/var/folders/fq/m8lfjxgn0973ymrn76p0x_cw0000gn/T/ipykernel_1436/4038342048.py:13: SettingWithCopyWarning: \n",
      "A value is trying to be set on a copy of a slice from a DataFrame.\n",
      "Try using .loc[row_indexer,col_indexer] = value instead\n",
      "\n",
      "See the caveats in the documentation: https://pandas.pydata.org/pandas-docs/stable/user_guide/indexing.html#returning-a-view-versus-a-copy\n",
      "  tools_df['Tools'] = list(tools.values())\n"
     ]
    },
    {
     "data": {
      "text/plain": "                                           vuln_title        category  total  \\\n1             Absence of coding logic or sanity check  Smart Contract     42   \n2                        On-chain oracle manipulation        Protocol     29   \n3                                          Reentrancy  Smart Contract     13   \n5           Liquidity borrow, purchase, mint, deposit        Protocol     10   \n6                         Camouflage a token contract        Protocol      9   \n7                      Token standard incompatibility        Protocol      8   \n8                     Function/State Visibility Error  Smart Contract      8   \n9               Other unsafe DeFi protocol dependency        Protocol      7   \n11  Other inconsistent, improper or unprotected ac...  Smart Contract      5   \n13                                       Logic Errors  Smart Contract      5   \n14                         Unfair slippage protection        Protocol      4   \n15                         Unfair liquidity providing        Protocol      4   \n16                  Direct call to untrusted contract  Smart Contract      4   \n17                     Other protocol vulnerabilities        Protocol      3   \n18                                  Governance attack        Protocol      3   \n19                       Transaction Order Dependence        Protocol      2   \n20                              Other coding mistakes  Smart Contract      2   \n22                   Delegatecall to Untrusted Callee  Smart Contract      2   \n24                    Unsafe call to phantom function        Protocol      1   \n25   Other unfair or unsafe DeFi protocol interaction        Protocol      1   \n27               Improper asset locks or frozen asset  Smart Contract      1   \n28                    Camouflage a non-token contract        Protocol      1   \n29                                    Weak Randomness        Protocol      0   \n30                  Unsafe or infinite token approval        Protocol      0   \n32                  Unhandled or mishandled exception  Smart Contract      0   \n33                  Unencrypted Private Data On-Chain  Smart Contract      0   \n34                  Unbounded or gas costly operation  Smart Contract      0   \n35          Transaction / strategy / signature replay        Protocol      0   \n36                               Timestamp Dependence        Protocol      0   \n37                    Signature verification mistakes  Smart Contract      0   \n38                                      Short address  Smart Contract      0   \n39                          Shadowing State Variables  Smart Contract      0   \n40              Outdated compiler or solidity version  Smart Contract      0   \n41               Other smart contract vulnerabilities  Smart Contract      0   \n42             Message call with hardcoded gas amount  Smart Contract      0   \n43                     Integer Overflow and Underflow  Smart Contract      0   \n44                        Incorrect Inheritance Order  Smart Contract      0   \n45                                    Floating Pragma  Smart Contract      0   \n48                                            Casting  Smart Contract      0   \n\n                                                  ids  Detectable  \\\n1   [20220312_Paraluni_S, 20210810_PunkProtocol_CS...           0   \n2   [20210603_PancakeHunny_S, 20211006_MyFarmPet_S...           0   \n3   [20220312_Paraluni_S, 2020117_OriginDollar_CSR...          11   \n5   [2020117_OriginDollar_CSR, 20211123_PloutozFin...           0   \n6   [20220312_Paraluni_S, 20201011_WLEO_S, 2021031...           0   \n7   [20220425_WienerDoge_S, 20220327_RevestFinance...           0   \n8   [20200630_VETH_S, 20200618_Bancor_S, 20210527_...           5   \n9   [20210508_RariCapital_CSR, 20210221_PrimitiveF...           0   \n11  [20210318_SILFinance_S, 20220201_MOX_S, 202109...           0   \n13  [20201228_CoverProtocol_CSR, 20210507_ValueDeF...           0   \n14  [20211014_IndexedFinance_CSR, 20210625_xWinFin...           0   \n15  [20210501_Spartan_CSR, 20210718_ArrayFinance_S...           0   \n16  [20210627_SharedStake_S, 20211127_dydx_S, 2021...           0   \n17  [20210522_BoggedFinance_S, 20211121_Formation,...           0   \n18  [20211110_Curve_S, 20220417_Beanstalk_SCR, 202...           0   \n19  [20211211_SorbetFinance_S, 20220402_InverseFin...           0   \n20       [20210710_Anyswap_SR, 20210929_Compound_CSR]           0   \n22  [20210810_PunkProtocol_CSR, 20211221_VisorFina...           0   \n24                            [20220118_Multichain_S]           0   \n25                                  [20200215_bZx_CS]           0   \n27                               [20200824_YFValue_S]           0   \n28                        [20210213_CreamFinance_CSR]           0   \n29                                                 []           0   \n30                                                 []           0   \n32                                                 []           0   \n33                                                 []           0   \n34                                                 []           0   \n35                                                 []           0   \n36                                                 []           0   \n37                                                 []           0   \n38                                                 []           0   \n39                                                 []           0   \n40                                                 []           0   \n41                                                 []           0   \n42                                                 []           0   \n43                                                 []           0   \n44                                                 []           0   \n45                                                 []           0   \n48                                                 []           0   \n\n                                       detectable_ids  Findings  \\\n1                                                  {}         0   \n2                                                  {}         0   \n3   {20220312_Paraluni_S, 20220327_RevestFinance_S...        82   \n5                                                  {}         0   \n6                                                  {}         0   \n7                                                  {}         0   \n8   {20200630_VETH_S, 20200618_Bancor_S, 20210527_...        67   \n9                                                  {}         0   \n11                                                 {}        19   \n13                                                 {}         0   \n14                                                 {}         0   \n15                                                 {}         0   \n16                                                 {}         0   \n17                                                 {}         0   \n18                                                 {}         0   \n19                                                 {}         1   \n20                                                 {}         0   \n22                                                 {}         5   \n24                                                 {}         0   \n25                                                 {}         0   \n27                                                 {}         8   \n28                                                 {}         0   \n29                                                 {}        11   \n30                                                 {}         0   \n32                                                 {}        93   \n33                                                 {}         0   \n34                                                 {}        17   \n35                                                 {}         0   \n36                                                 {}        69   \n37                                                 {}         0   \n38                                                 {}         0   \n39                                                 {}        55   \n40                                                 {}       109   \n41                                                 {}         0   \n42                                                 {}         0   \n43                                                 {}        69   \n44                                                 {}         0   \n45                                                 {}         0   \n48                                                 {}         0   \n\n                                         findings_ids  \\\n1                                                  {}   \n2                                                  {}   \n3   {20210627_SharedStake_S, 20211006_MyFarmPet_S,...   \n5                                                  {}   \n6                                                  {}   \n7                                                  {}   \n8   {20220312_Paraluni_S, 20210603_PancakeHunny_S,...   \n9                                                  {}   \n11  {20201228_CoverProtocol_CSR, 20201128_SushiSwa...   \n13                                                 {}   \n14                                                 {}   \n15                                                 {}   \n16                                                 {}   \n17                                                 {}   \n18                                                 {}   \n19                                   {20200218_bZx_S}   \n20                                                 {}   \n22  {20210830_CreamFinance_CSR, 20210710_Chainswap...   \n24                                                 {}   \n25                                                 {}   \n27  {20220312_Paraluni_S, 20220421_ZEED_S, 2020061...   \n28                                                 {}   \n29  {20210603_PancakeHunny_S, 20220425_WienerDoge_...   \n30                                                 {}   \n32  {20210627_SharedStake_S, 20211006_MyFarmPet_S,...   \n33                                                 {}   \n34  {20210622_ElevenFinance_CSR, 20211123_PloutozF...   \n35                                                 {}   \n36  {20210627_SharedStake_S, 20210603_PancakeHunny...   \n37                                                 {}   \n38                                                 {}   \n39  {20210627_SharedStake_S, 20210603_PancakeHunny...   \n40  {20210627_SharedStake_S, 20200628_Balancer_CS,...   \n41                                                 {}   \n42                                                 {}   \n43  {20220312_Paraluni_S, 20210603_PancakeHunny_S,...   \n44                                                 {}   \n45                                                 {}   \n48                                                 {}   \n\n                                              Tools  \n1                                                []  \n2                                                []  \n3   [slither, oyente, confuzzius, mythril, solhint]  \n5                                                []  \n6                                                []  \n7                                                []  \n8                                         [solhint]  \n9                                                []  \n11  [slither, oyente, confuzzius, mythril, solhint]  \n13                                               []  \n14                                               []  \n15                                               []  \n16                                        [mythril]  \n17                                               []  \n18                                               []  \n19                    [oyente, confuzzius, mythril]  \n20                                               []  \n22                   [slither, confuzzius, mythril]  \n24                                               []  \n25                                               []  \n27                            [slither, confuzzius]  \n28                                               []  \n29                               [slither, solhint]  \n30                                               []  \n32  [slither, oyente, confuzzius, mythril, solhint]  \n33                                               []  \n34                                        [mythril]  \n35                                               []  \n36  [slither, oyente, confuzzius, mythril, solhint]  \n37                                               []  \n38                                               []  \n39                                        [slither]  \n40                       [slither, oyente, solhint]  \n41                                               []  \n42                                               []  \n43           [slither, oyente, confuzzius, mythril]  \n44                                               []  \n45                                               []  \n48                                               []  ",
      "text/html": "<div>\n<style scoped>\n    .dataframe tbody tr th:only-of-type {\n        vertical-align: middle;\n    }\n\n    .dataframe tbody tr th {\n        vertical-align: top;\n    }\n\n    .dataframe thead th {\n        text-align: right;\n    }\n</style>\n<table border=\"1\" class=\"dataframe\">\n  <thead>\n    <tr style=\"text-align: right;\">\n      <th></th>\n      <th>vuln_title</th>\n      <th>category</th>\n      <th>total</th>\n      <th>ids</th>\n      <th>Detectable</th>\n      <th>detectable_ids</th>\n      <th>Findings</th>\n      <th>findings_ids</th>\n      <th>Tools</th>\n    </tr>\n  </thead>\n  <tbody>\n    <tr>\n      <th>1</th>\n      <td>Absence of coding logic or sanity check</td>\n      <td>Smart Contract</td>\n      <td>42</td>\n      <td>[20220312_Paraluni_S, 20210810_PunkProtocol_CS...</td>\n      <td>0</td>\n      <td>{}</td>\n      <td>0</td>\n      <td>{}</td>\n      <td>[]</td>\n    </tr>\n    <tr>\n      <th>2</th>\n      <td>On-chain oracle manipulation</td>\n      <td>Protocol</td>\n      <td>29</td>\n      <td>[20210603_PancakeHunny_S, 20211006_MyFarmPet_S...</td>\n      <td>0</td>\n      <td>{}</td>\n      <td>0</td>\n      <td>{}</td>\n      <td>[]</td>\n    </tr>\n    <tr>\n      <th>3</th>\n      <td>Reentrancy</td>\n      <td>Smart Contract</td>\n      <td>13</td>\n      <td>[20220312_Paraluni_S, 2020117_OriginDollar_CSR...</td>\n      <td>11</td>\n      <td>{20220312_Paraluni_S, 20220327_RevestFinance_S...</td>\n      <td>82</td>\n      <td>{20210627_SharedStake_S, 20211006_MyFarmPet_S,...</td>\n      <td>[slither, oyente, confuzzius, mythril, solhint]</td>\n    </tr>\n    <tr>\n      <th>5</th>\n      <td>Liquidity borrow, purchase, mint, deposit</td>\n      <td>Protocol</td>\n      <td>10</td>\n      <td>[2020117_OriginDollar_CSR, 20211123_PloutozFin...</td>\n      <td>0</td>\n      <td>{}</td>\n      <td>0</td>\n      <td>{}</td>\n      <td>[]</td>\n    </tr>\n    <tr>\n      <th>6</th>\n      <td>Camouflage a token contract</td>\n      <td>Protocol</td>\n      <td>9</td>\n      <td>[20220312_Paraluni_S, 20201011_WLEO_S, 2021031...</td>\n      <td>0</td>\n      <td>{}</td>\n      <td>0</td>\n      <td>{}</td>\n      <td>[]</td>\n    </tr>\n    <tr>\n      <th>7</th>\n      <td>Token standard incompatibility</td>\n      <td>Protocol</td>\n      <td>8</td>\n      <td>[20220425_WienerDoge_S, 20220327_RevestFinance...</td>\n      <td>0</td>\n      <td>{}</td>\n      <td>0</td>\n      <td>{}</td>\n      <td>[]</td>\n    </tr>\n    <tr>\n      <th>8</th>\n      <td>Function/State Visibility Error</td>\n      <td>Smart Contract</td>\n      <td>8</td>\n      <td>[20200630_VETH_S, 20200618_Bancor_S, 20210527_...</td>\n      <td>5</td>\n      <td>{20200630_VETH_S, 20200618_Bancor_S, 20210527_...</td>\n      <td>67</td>\n      <td>{20220312_Paraluni_S, 20210603_PancakeHunny_S,...</td>\n      <td>[solhint]</td>\n    </tr>\n    <tr>\n      <th>9</th>\n      <td>Other unsafe DeFi protocol dependency</td>\n      <td>Protocol</td>\n      <td>7</td>\n      <td>[20210508_RariCapital_CSR, 20210221_PrimitiveF...</td>\n      <td>0</td>\n      <td>{}</td>\n      <td>0</td>\n      <td>{}</td>\n      <td>[]</td>\n    </tr>\n    <tr>\n      <th>11</th>\n      <td>Other inconsistent, improper or unprotected ac...</td>\n      <td>Smart Contract</td>\n      <td>5</td>\n      <td>[20210318_SILFinance_S, 20220201_MOX_S, 202109...</td>\n      <td>0</td>\n      <td>{}</td>\n      <td>19</td>\n      <td>{20201228_CoverProtocol_CSR, 20201128_SushiSwa...</td>\n      <td>[slither, oyente, confuzzius, mythril, solhint]</td>\n    </tr>\n    <tr>\n      <th>13</th>\n      <td>Logic Errors</td>\n      <td>Smart Contract</td>\n      <td>5</td>\n      <td>[20201228_CoverProtocol_CSR, 20210507_ValueDeF...</td>\n      <td>0</td>\n      <td>{}</td>\n      <td>0</td>\n      <td>{}</td>\n      <td>[]</td>\n    </tr>\n    <tr>\n      <th>14</th>\n      <td>Unfair slippage protection</td>\n      <td>Protocol</td>\n      <td>4</td>\n      <td>[20211014_IndexedFinance_CSR, 20210625_xWinFin...</td>\n      <td>0</td>\n      <td>{}</td>\n      <td>0</td>\n      <td>{}</td>\n      <td>[]</td>\n    </tr>\n    <tr>\n      <th>15</th>\n      <td>Unfair liquidity providing</td>\n      <td>Protocol</td>\n      <td>4</td>\n      <td>[20210501_Spartan_CSR, 20210718_ArrayFinance_S...</td>\n      <td>0</td>\n      <td>{}</td>\n      <td>0</td>\n      <td>{}</td>\n      <td>[]</td>\n    </tr>\n    <tr>\n      <th>16</th>\n      <td>Direct call to untrusted contract</td>\n      <td>Smart Contract</td>\n      <td>4</td>\n      <td>[20210627_SharedStake_S, 20211127_dydx_S, 2021...</td>\n      <td>0</td>\n      <td>{}</td>\n      <td>0</td>\n      <td>{}</td>\n      <td>[mythril]</td>\n    </tr>\n    <tr>\n      <th>17</th>\n      <td>Other protocol vulnerabilities</td>\n      <td>Protocol</td>\n      <td>3</td>\n      <td>[20210522_BoggedFinance_S, 20211121_Formation,...</td>\n      <td>0</td>\n      <td>{}</td>\n      <td>0</td>\n      <td>{}</td>\n      <td>[]</td>\n    </tr>\n    <tr>\n      <th>18</th>\n      <td>Governance attack</td>\n      <td>Protocol</td>\n      <td>3</td>\n      <td>[20211110_Curve_S, 20220417_Beanstalk_SCR, 202...</td>\n      <td>0</td>\n      <td>{}</td>\n      <td>0</td>\n      <td>{}</td>\n      <td>[]</td>\n    </tr>\n    <tr>\n      <th>19</th>\n      <td>Transaction Order Dependence</td>\n      <td>Protocol</td>\n      <td>2</td>\n      <td>[20211211_SorbetFinance_S, 20220402_InverseFin...</td>\n      <td>0</td>\n      <td>{}</td>\n      <td>1</td>\n      <td>{20200218_bZx_S}</td>\n      <td>[oyente, confuzzius, mythril]</td>\n    </tr>\n    <tr>\n      <th>20</th>\n      <td>Other coding mistakes</td>\n      <td>Smart Contract</td>\n      <td>2</td>\n      <td>[20210710_Anyswap_SR, 20210929_Compound_CSR]</td>\n      <td>0</td>\n      <td>{}</td>\n      <td>0</td>\n      <td>{}</td>\n      <td>[]</td>\n    </tr>\n    <tr>\n      <th>22</th>\n      <td>Delegatecall to Untrusted Callee</td>\n      <td>Smart Contract</td>\n      <td>2</td>\n      <td>[20210810_PunkProtocol_CSR, 20211221_VisorFina...</td>\n      <td>0</td>\n      <td>{}</td>\n      <td>5</td>\n      <td>{20210830_CreamFinance_CSR, 20210710_Chainswap...</td>\n      <td>[slither, confuzzius, mythril]</td>\n    </tr>\n    <tr>\n      <th>24</th>\n      <td>Unsafe call to phantom function</td>\n      <td>Protocol</td>\n      <td>1</td>\n      <td>[20220118_Multichain_S]</td>\n      <td>0</td>\n      <td>{}</td>\n      <td>0</td>\n      <td>{}</td>\n      <td>[]</td>\n    </tr>\n    <tr>\n      <th>25</th>\n      <td>Other unfair or unsafe DeFi protocol interaction</td>\n      <td>Protocol</td>\n      <td>1</td>\n      <td>[20200215_bZx_CS]</td>\n      <td>0</td>\n      <td>{}</td>\n      <td>0</td>\n      <td>{}</td>\n      <td>[]</td>\n    </tr>\n    <tr>\n      <th>27</th>\n      <td>Improper asset locks or frozen asset</td>\n      <td>Smart Contract</td>\n      <td>1</td>\n      <td>[20200824_YFValue_S]</td>\n      <td>0</td>\n      <td>{}</td>\n      <td>8</td>\n      <td>{20220312_Paraluni_S, 20220421_ZEED_S, 2020061...</td>\n      <td>[slither, confuzzius]</td>\n    </tr>\n    <tr>\n      <th>28</th>\n      <td>Camouflage a non-token contract</td>\n      <td>Protocol</td>\n      <td>1</td>\n      <td>[20210213_CreamFinance_CSR]</td>\n      <td>0</td>\n      <td>{}</td>\n      <td>0</td>\n      <td>{}</td>\n      <td>[]</td>\n    </tr>\n    <tr>\n      <th>29</th>\n      <td>Weak Randomness</td>\n      <td>Protocol</td>\n      <td>0</td>\n      <td>[]</td>\n      <td>0</td>\n      <td>{}</td>\n      <td>11</td>\n      <td>{20210603_PancakeHunny_S, 20220425_WienerDoge_...</td>\n      <td>[slither, solhint]</td>\n    </tr>\n    <tr>\n      <th>30</th>\n      <td>Unsafe or infinite token approval</td>\n      <td>Protocol</td>\n      <td>0</td>\n      <td>[]</td>\n      <td>0</td>\n      <td>{}</td>\n      <td>0</td>\n      <td>{}</td>\n      <td>[]</td>\n    </tr>\n    <tr>\n      <th>32</th>\n      <td>Unhandled or mishandled exception</td>\n      <td>Smart Contract</td>\n      <td>0</td>\n      <td>[]</td>\n      <td>0</td>\n      <td>{}</td>\n      <td>93</td>\n      <td>{20210627_SharedStake_S, 20211006_MyFarmPet_S,...</td>\n      <td>[slither, oyente, confuzzius, mythril, solhint]</td>\n    </tr>\n    <tr>\n      <th>33</th>\n      <td>Unencrypted Private Data On-Chain</td>\n      <td>Smart Contract</td>\n      <td>0</td>\n      <td>[]</td>\n      <td>0</td>\n      <td>{}</td>\n      <td>0</td>\n      <td>{}</td>\n      <td>[]</td>\n    </tr>\n    <tr>\n      <th>34</th>\n      <td>Unbounded or gas costly operation</td>\n      <td>Smart Contract</td>\n      <td>0</td>\n      <td>[]</td>\n      <td>0</td>\n      <td>{}</td>\n      <td>17</td>\n      <td>{20210622_ElevenFinance_CSR, 20211123_PloutozF...</td>\n      <td>[mythril]</td>\n    </tr>\n    <tr>\n      <th>35</th>\n      <td>Transaction / strategy / signature replay</td>\n      <td>Protocol</td>\n      <td>0</td>\n      <td>[]</td>\n      <td>0</td>\n      <td>{}</td>\n      <td>0</td>\n      <td>{}</td>\n      <td>[]</td>\n    </tr>\n    <tr>\n      <th>36</th>\n      <td>Timestamp Dependence</td>\n      <td>Protocol</td>\n      <td>0</td>\n      <td>[]</td>\n      <td>0</td>\n      <td>{}</td>\n      <td>69</td>\n      <td>{20210627_SharedStake_S, 20210603_PancakeHunny...</td>\n      <td>[slither, oyente, confuzzius, mythril, solhint]</td>\n    </tr>\n    <tr>\n      <th>37</th>\n      <td>Signature verification mistakes</td>\n      <td>Smart Contract</td>\n      <td>0</td>\n      <td>[]</td>\n      <td>0</td>\n      <td>{}</td>\n      <td>0</td>\n      <td>{}</td>\n      <td>[]</td>\n    </tr>\n    <tr>\n      <th>38</th>\n      <td>Short address</td>\n      <td>Smart Contract</td>\n      <td>0</td>\n      <td>[]</td>\n      <td>0</td>\n      <td>{}</td>\n      <td>0</td>\n      <td>{}</td>\n      <td>[]</td>\n    </tr>\n    <tr>\n      <th>39</th>\n      <td>Shadowing State Variables</td>\n      <td>Smart Contract</td>\n      <td>0</td>\n      <td>[]</td>\n      <td>0</td>\n      <td>{}</td>\n      <td>55</td>\n      <td>{20210627_SharedStake_S, 20210603_PancakeHunny...</td>\n      <td>[slither]</td>\n    </tr>\n    <tr>\n      <th>40</th>\n      <td>Outdated compiler or solidity version</td>\n      <td>Smart Contract</td>\n      <td>0</td>\n      <td>[]</td>\n      <td>0</td>\n      <td>{}</td>\n      <td>109</td>\n      <td>{20210627_SharedStake_S, 20200628_Balancer_CS,...</td>\n      <td>[slither, oyente, solhint]</td>\n    </tr>\n    <tr>\n      <th>41</th>\n      <td>Other smart contract vulnerabilities</td>\n      <td>Smart Contract</td>\n      <td>0</td>\n      <td>[]</td>\n      <td>0</td>\n      <td>{}</td>\n      <td>0</td>\n      <td>{}</td>\n      <td>[]</td>\n    </tr>\n    <tr>\n      <th>42</th>\n      <td>Message call with hardcoded gas amount</td>\n      <td>Smart Contract</td>\n      <td>0</td>\n      <td>[]</td>\n      <td>0</td>\n      <td>{}</td>\n      <td>0</td>\n      <td>{}</td>\n      <td>[]</td>\n    </tr>\n    <tr>\n      <th>43</th>\n      <td>Integer Overflow and Underflow</td>\n      <td>Smart Contract</td>\n      <td>0</td>\n      <td>[]</td>\n      <td>0</td>\n      <td>{}</td>\n      <td>69</td>\n      <td>{20220312_Paraluni_S, 20210603_PancakeHunny_S,...</td>\n      <td>[slither, oyente, confuzzius, mythril]</td>\n    </tr>\n    <tr>\n      <th>44</th>\n      <td>Incorrect Inheritance Order</td>\n      <td>Smart Contract</td>\n      <td>0</td>\n      <td>[]</td>\n      <td>0</td>\n      <td>{}</td>\n      <td>0</td>\n      <td>{}</td>\n      <td>[]</td>\n    </tr>\n    <tr>\n      <th>45</th>\n      <td>Floating Pragma</td>\n      <td>Smart Contract</td>\n      <td>0</td>\n      <td>[]</td>\n      <td>0</td>\n      <td>{}</td>\n      <td>0</td>\n      <td>{}</td>\n      <td>[]</td>\n    </tr>\n    <tr>\n      <th>48</th>\n      <td>Casting</td>\n      <td>Smart Contract</td>\n      <td>0</td>\n      <td>[]</td>\n      <td>0</td>\n      <td>{}</td>\n      <td>0</td>\n      <td>{}</td>\n      <td>[]</td>\n    </tr>\n  </tbody>\n</table>\n</div>"
     },
     "execution_count": 15,
     "metadata": {},
     "output_type": "execute_result"
    }
   ],
   "source": [
    "# 10. Tools\n",
    "query = \"\"\"\n",
    "SELECT vm.vuln_title, t.tool_name\n",
    "FROM ToolsVulnerabilities tv\n",
    "JOIN Tool t ON tv.tool_id = t.tool_id\n",
    "JOIN VulnerabilitiesMap VM on tv.vuln_map_id = VM.vuln_map_id;\n",
    "\"\"\"\n",
    "qset =  cur.execute(query)\n",
    "tools_df = incidents_per_ic_category\n",
    "tools = {v: [] for v in incidents_per_ic_category.vuln_title}\n",
    "for vuln, tool in qset:\n",
    "    tools[vuln].append(tool)\n",
    "tools_df['Tools'] = list(tools.values())\n",
    "tools_df"
   ]
  },
  {
   "cell_type": "code",
   "execution_count": null,
   "id": "76672f3f",
   "metadata": {
    "ExecuteTime": {
     "start_time": "2023-06-20T08:10:21.066553Z"
    }
   },
   "outputs": [],
   "source": [
    "# For each incident get a list with vulns\n",
    "query = \"\"\"\n",
    "SELECT DISTINCT\n",
    "    I.incident_title,\n",
    "    VM.vuln_title\n",
    "FROM Incident I\n",
    "JOIN IncidentCause IC ON I.incident_id = IC.incident_id\n",
    "JOIN Cause C ON IC.cause_id = C.cause_id\n",
    "JOIN VulnerabilitiesMap VM ON C.vuln_map_id = VM.vuln_map_id;\n",
    "\"\"\"\n",
    "qset = cur.execute(query)\n",
    "incident_vulns = defaultdict(list)\n",
    "for incident, vuln in qset:\n",
    "    incident_vulns[incident].append(vuln)\n",
    "\n",
    "incident_vulns\n",
    "    \n"
   ]
  },
  {
   "cell_type": "code",
   "execution_count": 16,
   "outputs": [
    {
     "name": "stdout",
     "output_type": "stream",
     "text": [
      "Total Incidents:                        127\n",
      "Total Damage:                           2331903028\n",
      "Total Incidents out of scope:           95 (74%)\n",
      "Total Damage out of scope:              2060349987 (88%)\n",
      "Total Incidents in scope:               32 (25%)\n",
      "Total Damage in scope:                  271553041 (11%)\n",
      "Total Detectable Incidents in scope:    16 (50%)\n",
      "Total Damage could have been prevented: 160596783 (59%)\n"
     ]
    },
    {
     "ename": "NameError",
     "evalue": "name 'incident_vulns' is not defined",
     "output_type": "error",
     "traceback": [
      "\u001B[0;31m---------------------------------------------------------------------------\u001B[0m",
      "\u001B[0;31mNameError\u001B[0m                                 Traceback (most recent call last)",
      "Cell \u001B[0;32mIn[16], line 38\u001B[0m\n\u001B[1;32m     35\u001B[0m \u001B[38;5;28mprint\u001B[39m(\u001B[38;5;124mf\u001B[39m\u001B[38;5;124m\"\u001B[39m\u001B[38;5;124mTotal Detectable Incidents in scope:    \u001B[39m\u001B[38;5;132;01m{\u001B[39;00mtotal_detectable_incidents\u001B[38;5;132;01m}\u001B[39;00m\u001B[38;5;124m (\u001B[39m\u001B[38;5;132;01m{\u001B[39;00m\u001B[38;5;28mint\u001B[39m(total_detectable_incidents\u001B[38;5;241m/\u001B[39mtotal_incidents_in_scope\u001B[38;5;250m \u001B[39m\u001B[38;5;241m*\u001B[39m\u001B[38;5;250m \u001B[39m\u001B[38;5;241m100\u001B[39m)\u001B[38;5;132;01m}\u001B[39;00m\u001B[38;5;124m%)\u001B[39m\u001B[38;5;124m\"\u001B[39m)\n\u001B[1;32m     36\u001B[0m \u001B[38;5;28mprint\u001B[39m(\u001B[38;5;124mf\u001B[39m\u001B[38;5;124m\"\u001B[39m\u001B[38;5;124mTotal Damage could have been prevented: \u001B[39m\u001B[38;5;132;01m{\u001B[39;00mtotal_value_could_have_been_saved\u001B[38;5;132;01m}\u001B[39;00m\u001B[38;5;124m (\u001B[39m\u001B[38;5;132;01m{\u001B[39;00m\u001B[38;5;28mint\u001B[39m(total_value_could_have_been_saved\u001B[38;5;241m/\u001B[39mtotal_value_in_scope\u001B[38;5;250m \u001B[39m\u001B[38;5;241m*\u001B[39m\u001B[38;5;250m \u001B[39m\u001B[38;5;241m100\u001B[39m)\u001B[38;5;132;01m}\u001B[39;00m\u001B[38;5;124m%)\u001B[39m\u001B[38;5;124m\"\u001B[39m)\n\u001B[0;32m---> 38\u001B[0m exploits_with_logic \u001B[38;5;241m=\u001B[39m \u001B[43m{\u001B[49m\n\u001B[1;32m     39\u001B[0m \u001B[43m    \u001B[49m\u001B[43mi\u001B[49m\u001B[43m \u001B[49m\u001B[38;5;28;43;01mfor\u001B[39;49;00m\u001B[43m \u001B[49m\u001B[43mi\u001B[49m\u001B[43m \u001B[49m\u001B[38;5;129;43;01min\u001B[39;49;00m\u001B[43m \u001B[49m\u001B[43mdamage\u001B[49m\n\u001B[1;32m     40\u001B[0m \u001B[43m    \u001B[49m\u001B[38;5;28;43;01mif\u001B[39;49;00m\u001B[43m \u001B[49m\u001B[38;5;124;43m'\u001B[39;49m\u001B[38;5;124;43mAbsence of coding logic or sanity check\u001B[39;49m\u001B[38;5;124;43m'\u001B[39;49m\u001B[43m \u001B[49m\u001B[38;5;129;43;01min\u001B[39;49;00m\u001B[43m \u001B[49m\u001B[43mincident_vulns\u001B[49m\u001B[43m[\u001B[49m\u001B[43mi\u001B[49m\u001B[43m]\u001B[49m\u001B[43m \u001B[49m\u001B[38;5;129;43;01mor\u001B[39;49;00m\u001B[43m \u001B[49m\u001B[38;5;124;43m'\u001B[39;49m\u001B[38;5;124;43mLogic Errors\u001B[39;49m\u001B[38;5;124;43m'\u001B[39;49m\u001B[43m \u001B[49m\u001B[38;5;129;43;01min\u001B[39;49;00m\u001B[43m \u001B[49m\u001B[43mincident_vulns\u001B[49m\u001B[43m[\u001B[49m\u001B[43mi\u001B[49m\u001B[43m]\u001B[49m\n\u001B[1;32m     41\u001B[0m \u001B[43m}\u001B[49m\n\u001B[1;32m     42\u001B[0m logic_damage \u001B[38;5;241m=\u001B[39m \u001B[38;5;28mint\u001B[39m(\u001B[38;5;28msum\u001B[39m(d \u001B[38;5;28;01mfor\u001B[39;00m i, d \u001B[38;5;129;01min\u001B[39;00m damage\u001B[38;5;241m.\u001B[39mitems() \u001B[38;5;28;01mif\u001B[39;00m i \u001B[38;5;129;01min\u001B[39;00m exploits_with_logic))\n\u001B[1;32m     43\u001B[0m \u001B[38;5;28mprint\u001B[39m(\u001B[38;5;124mf\u001B[39m\u001B[38;5;124m\"\u001B[39m\u001B[38;5;124mTotal Logic:                            \u001B[39m\u001B[38;5;132;01m{\u001B[39;00m\u001B[38;5;28mlen\u001B[39m(exploits_with_logic)\u001B[38;5;132;01m}\u001B[39;00m\u001B[38;5;124m (\u001B[39m\u001B[38;5;132;01m{\u001B[39;00m\u001B[38;5;28mint\u001B[39m(\u001B[38;5;28mlen\u001B[39m(exploits_with_logic)\u001B[38;5;241m/\u001B[39mtotal_incidents\u001B[38;5;250m \u001B[39m\u001B[38;5;241m*\u001B[39m\u001B[38;5;250m \u001B[39m\u001B[38;5;241m100\u001B[39m)\u001B[38;5;132;01m}\u001B[39;00m\u001B[38;5;124m%)\u001B[39m\u001B[38;5;124m\"\u001B[39m)\n",
      "Cell \u001B[0;32mIn[16], line 40\u001B[0m, in \u001B[0;36m<setcomp>\u001B[0;34m(.0)\u001B[0m\n\u001B[1;32m     35\u001B[0m \u001B[38;5;28mprint\u001B[39m(\u001B[38;5;124mf\u001B[39m\u001B[38;5;124m\"\u001B[39m\u001B[38;5;124mTotal Detectable Incidents in scope:    \u001B[39m\u001B[38;5;132;01m{\u001B[39;00mtotal_detectable_incidents\u001B[38;5;132;01m}\u001B[39;00m\u001B[38;5;124m (\u001B[39m\u001B[38;5;132;01m{\u001B[39;00m\u001B[38;5;28mint\u001B[39m(total_detectable_incidents\u001B[38;5;241m/\u001B[39mtotal_incidents_in_scope\u001B[38;5;250m \u001B[39m\u001B[38;5;241m*\u001B[39m\u001B[38;5;250m \u001B[39m\u001B[38;5;241m100\u001B[39m)\u001B[38;5;132;01m}\u001B[39;00m\u001B[38;5;124m%)\u001B[39m\u001B[38;5;124m\"\u001B[39m)\n\u001B[1;32m     36\u001B[0m \u001B[38;5;28mprint\u001B[39m(\u001B[38;5;124mf\u001B[39m\u001B[38;5;124m\"\u001B[39m\u001B[38;5;124mTotal Damage could have been prevented: \u001B[39m\u001B[38;5;132;01m{\u001B[39;00mtotal_value_could_have_been_saved\u001B[38;5;132;01m}\u001B[39;00m\u001B[38;5;124m (\u001B[39m\u001B[38;5;132;01m{\u001B[39;00m\u001B[38;5;28mint\u001B[39m(total_value_could_have_been_saved\u001B[38;5;241m/\u001B[39mtotal_value_in_scope\u001B[38;5;250m \u001B[39m\u001B[38;5;241m*\u001B[39m\u001B[38;5;250m \u001B[39m\u001B[38;5;241m100\u001B[39m)\u001B[38;5;132;01m}\u001B[39;00m\u001B[38;5;124m%)\u001B[39m\u001B[38;5;124m\"\u001B[39m)\n\u001B[1;32m     38\u001B[0m exploits_with_logic \u001B[38;5;241m=\u001B[39m {\n\u001B[1;32m     39\u001B[0m     i \u001B[38;5;28;01mfor\u001B[39;00m i \u001B[38;5;129;01min\u001B[39;00m damage\n\u001B[0;32m---> 40\u001B[0m     \u001B[38;5;28;01mif\u001B[39;00m \u001B[38;5;124m'\u001B[39m\u001B[38;5;124mAbsence of coding logic or sanity check\u001B[39m\u001B[38;5;124m'\u001B[39m \u001B[38;5;129;01min\u001B[39;00m \u001B[43mincident_vulns\u001B[49m[i] \u001B[38;5;129;01mor\u001B[39;00m \u001B[38;5;124m'\u001B[39m\u001B[38;5;124mLogic Errors\u001B[39m\u001B[38;5;124m'\u001B[39m \u001B[38;5;129;01min\u001B[39;00m incident_vulns[i]\n\u001B[1;32m     41\u001B[0m }\n\u001B[1;32m     42\u001B[0m logic_damage \u001B[38;5;241m=\u001B[39m \u001B[38;5;28mint\u001B[39m(\u001B[38;5;28msum\u001B[39m(d \u001B[38;5;28;01mfor\u001B[39;00m i, d \u001B[38;5;129;01min\u001B[39;00m damage\u001B[38;5;241m.\u001B[39mitems() \u001B[38;5;28;01mif\u001B[39;00m i \u001B[38;5;129;01min\u001B[39;00m exploits_with_logic))\n\u001B[1;32m     43\u001B[0m \u001B[38;5;28mprint\u001B[39m(\u001B[38;5;124mf\u001B[39m\u001B[38;5;124m\"\u001B[39m\u001B[38;5;124mTotal Logic:                            \u001B[39m\u001B[38;5;132;01m{\u001B[39;00m\u001B[38;5;28mlen\u001B[39m(exploits_with_logic)\u001B[38;5;132;01m}\u001B[39;00m\u001B[38;5;124m (\u001B[39m\u001B[38;5;132;01m{\u001B[39;00m\u001B[38;5;28mint\u001B[39m(\u001B[38;5;28mlen\u001B[39m(exploits_with_logic)\u001B[38;5;241m/\u001B[39mtotal_incidents\u001B[38;5;250m \u001B[39m\u001B[38;5;241m*\u001B[39m\u001B[38;5;250m \u001B[39m\u001B[38;5;241m100\u001B[39m)\u001B[38;5;132;01m}\u001B[39;00m\u001B[38;5;124m%)\u001B[39m\u001B[38;5;124m\"\u001B[39m)\n",
      "\u001B[0;31mNameError\u001B[0m: name 'incident_vulns' is not defined"
     ]
    }
   ],
   "source": [
    "# 10. Percentages\n",
    "# Damage per incident\n",
    "query = \"\"\"\n",
    "SELECT incident_title, avg_reported_damage_in_usd as damage\n",
    "FROM Incident\n",
    "\"\"\"\n",
    "qset = cur.execute(query)\n",
    "damage = {title: damage for title, damage in qset}\n",
    "\n",
    "total_vuln_categories = tools_df['vuln_title'].count()\n",
    "\n",
    "incidents = df_incidents_aggr_results['Incident']\n",
    "in_scope_incidents = set(incidents)\n",
    "total_incidents = df_incidents_aggr_results['Incident'].count()\n",
    "total_incidents_in_scope = tools_df[tools_df['Tools'].apply(len) > 0]['ids']\n",
    "incidents_in_scope = set(i for l in total_incidents_in_scope for i in l)\n",
    "total_incidents_in_scope = len(incidents_in_scope)\n",
    "incidents_out_of_scope = set(i for i in incidents if i not in incidents_in_scope)\n",
    "total_incidents_out_of_scope = len(incidents_out_of_scope)\n",
    "detectable_incidents = set(i for l in tools_df[\"detectable_ids\"] for i in l)\n",
    "total_detectable_incidents = len(detectable_incidents)\n",
    "\n",
    "total_value = int(sum(damage[i] for i in df_incidents_aggr_results['Incident']))\n",
    "total_value_out_of_scope = int(sum(damage[i] for i in incidents_out_of_scope))\n",
    "total_value_in_scope = int(sum(damage[i] for i in incidents_in_scope))\n",
    "total_value_could_have_been_saved = int(sum(damage[i] for i in detectable_incidents))\n",
    "\n",
    "# In scope of selected tools\n",
    "print(f\"Total Incidents:                        {total_incidents}\")\n",
    "print(f\"Total Damage:                           {total_value}\")\n",
    "print(f\"Total Incidents out of scope:           {total_incidents_out_of_scope} ({int(total_incidents_out_of_scope/total_incidents * 100)}%)\")\n",
    "print(f\"Total Damage out of scope:              {total_value_out_of_scope} ({int(total_value_out_of_scope/total_value * 100)}%)\")\n",
    "print(f\"Total Incidents in scope:               {total_incidents_in_scope} ({int(total_incidents_in_scope/total_incidents * 100)}%)\")\n",
    "print(f\"Total Damage in scope:                  {total_value_in_scope} ({int(total_value_in_scope/total_value * 100)}%)\")\n",
    "print(f\"Total Detectable Incidents in scope:    {total_detectable_incidents} ({int(total_detectable_incidents/total_incidents_in_scope * 100)}%)\")\n",
    "print(f\"Total Damage could have been prevented: {total_value_could_have_been_saved} ({int(total_value_could_have_been_saved/total_value_in_scope * 100)}%)\")\n",
    "\n",
    "exploits_with_logic = {\n",
    "    i for i in damage\n",
    "    if 'Absence of coding logic or sanity check' in incident_vulns[i] or 'Logic Errors' in incident_vulns[i]\n",
    "}\n",
    "logic_damage = int(sum(d for i, d in damage.items() if i in exploits_with_logic))\n",
    "print(f\"Total Logic:                            {len(exploits_with_logic)} ({int(len(exploits_with_logic)/total_incidents * 100)}%)\")\n",
    "print(f\"Total Logic Damage:                     {logic_damage} ({int(logic_damage/total_value * 100)}%)\")\n",
    "merged_incidents_in_scope = incidents_in_scope.union(exploits_with_logic)\n",
    "merged_incidents_in_scope_damage = int(sum(d for i, d in damage.items() if i in merged_incidents_in_scope))\n",
    "print(f\"Total Logic + In-scope:                 {len(merged_incidents_in_scope)} ({int(len(merged_incidents_in_scope)/total_incidents * 100)}%)\")\n",
    "print(f\"Total Logic + In-scope Damage:          {merged_incidents_in_scope_damage} ({int(merged_incidents_in_scope_damage/total_value * 100)}%)\")\n",
    "#df_incidents_damage.loc[df_incidents_damage['incident_title'] == '20210522_DeFi100_S']['damage'].values[0]\n",
    "\n",
    "\n",
    "#set(i for l in tools_df[tools_df['Tools'].apply(len) == 0]['ids'])"
   ],
   "metadata": {
    "collapsed": false,
    "ExecuteTime": {
     "end_time": "2023-06-20T08:10:21.121565Z",
     "start_time": "2023-06-20T08:10:20.922238Z"
    }
   }
  },
  {
   "cell_type": "code",
   "execution_count": null,
   "outputs": [],
   "source": [
    "###### Get tools and analysis mode\n",
    "query = \"\"\"\n",
    "SELECT DISTINCT tool, is_bytecode\n",
    "FROM RetroAnalysis\n",
    "\"\"\"\n",
    "tools_analysis_df = pd.read_sql(query, con)\n",
    "total_index = len(tools_analysis_df.index)\n",
    "tools_analysis_df.loc[total_index] = ['total', '']\n",
    "tools_analysis_df\n",
    "\n",
    "\n"
   ],
   "metadata": {
    "collapsed": false,
    "ExecuteTime": {
     "start_time": "2023-06-20T08:10:21.065526Z"
    }
   }
  },
  {
   "cell_type": "code",
   "execution_count": null,
   "id": "a37bbf2d",
   "metadata": {
    "ExecuteTime": {
     "start_time": "2023-06-20T08:10:21.067505Z"
    }
   },
   "outputs": [],
   "source": [
    "# For each tool get a list with vulns that are in scope\n",
    "query = \"\"\"\n",
    "SELECT\n",
    "    T.tool_name,\n",
    "    VM.vuln_title\n",
    "FROM Tool T\n",
    "JOIN ToolsVulnerabilities TV ON T.tool_id = TV.tool_id\n",
    "JOIN VulnerabilitiesMap VM ON TV.vuln_map_id = VM.vuln_map_id;\n",
    "\"\"\"\n",
    "qset = cur.execute(query)\n",
    "tool_vulns = defaultdict(list)\n",
    "for tool, vuln in qset:\n",
    "    tool_vulns[tool].append(vuln)\n",
    "    \n",
    "# Find incidents that all contracts have source\n",
    "query = \"\"\"\n",
    "SELECT\n",
    "    DISTINCT I.incident_title\n",
    "FROM\n",
    "    Incident I\n",
    "WHERE\n",
    "    I.incident_id NOT IN (\n",
    "        SELECT\n",
    "            DISTINCT V.incident_id\n",
    "        FROM\n",
    "            Victim V\n",
    "        JOIN VulnerableContract VC ON V.victim_id = VC.victim_id\n",
    "        WHERE\n",
    "            VC.has_source = 0\n",
    "    );\n",
    "\"\"\"\n",
    "qset = cur.execute(query)\n",
    "incidents_with_source = set([i[0] for i in qset])\n",
    "\n",
    "# Find findings per tool for incidents\n",
    "query = \"\"\"\n",
    "SELECT\n",
    "    I.incident_title,\n",
    "    RA.tool,\n",
    "    RA.is_bytecode,\n",
    "    VM.vuln_title,\n",
    "    VC.contract_address\n",
    "FROM\n",
    "    Incident I\n",
    "JOIN\n",
    "    Victim V ON I.incident_id = V.incident_id\n",
    "JOIN\n",
    "    VulnerableContract VC ON V.victim_id = VC.victim_id\n",
    "JOIN\n",
    "    RetroAnalysis RA ON VC.vulnerable_contract_id = RA.vulnerable_contract_id\n",
    "JOIN\n",
    "    RetroFindings RF ON RA.analysis_id = RF.analysis_id\n",
    "JOIN\n",
    "    SmartContractVulnerabilities SCV ON RF.vulnerability_type_id = SCV.vulnerability_type_id\n",
    "JOIN\n",
    "    VulnerabilitiesMap VM ON SCV.vuln_map_id = VM.vuln_map_id;\n",
    "\"\"\"\n",
    "qset = cur.execute(query)\n",
    "findings = defaultdict(lambda: defaultdict(list))\n",
    "findings_merged = defaultdict(lambda: defaultdict(set))\n",
    "findings_contracts = defaultdict(lambda: defaultdict(lambda: defaultdict(list)))\n",
    "for incident, tool, is_bytecode, vuln_title, contract_address in qset:\n",
    "    findings[(tool, is_bytecode)][incident].append(vuln_title)\n",
    "    findings_merged[tool][incident].add(vuln_title)\n",
    "    findings_contracts[(tool, is_bytecode)][incident][vuln_title].append(contract_address)\n",
    "\n",
    "# Create a function to check if there's an intersection between two lists\n",
    "def has_intersection(list1, list2):\n",
    "    return len(set(list1) & set(list2)) > 0\n",
    "\n",
    "###### Find incidents in scope\n",
    "# Add a new column 'incidents_in_scope' to tools_analysis_df\n",
    "tools_analysis_df['incidents_in_scope'] = \"\"\n",
    "\n",
    "tools_analysis_df.at[total_index, 'incidents_in_scope'] = set()\n",
    "# Iterate over the rows in tools_analysis_df\n",
    "for index, row in tools_analysis_df.iterrows():\n",
    "    if index == total_index:\n",
    "        continue\n",
    "    tool = row['tool']\n",
    "    # Get the tool's vulnerabilities\n",
    "    tool_vulnerabilities = tool_vulns[tool]\n",
    "    # Get the incident titles that have at least one vulnerability in the tool's vulnerabilities\n",
    "    incidents_in_scope = set([\n",
    "        incident for incident, vulns in incident_vulns.items() \n",
    "        if has_intersection(vulns, tool_vulnerabilities)\n",
    "    ])\n",
    "    # Update the 'incidents_in_scope' column\n",
    "    tools_analysis_df.at[index, 'incidents_in_scope'] = incidents_in_scope\n",
    "    tools_analysis_df.at[total_index, 'incidents_in_scope'].update(incidents_in_scope)\n",
    "\n",
    "    \n",
    "print(tools_analysis_df)"
   ]
  },
  {
   "cell_type": "code",
   "execution_count": null,
   "id": "c6b93514",
   "metadata": {
    "ExecuteTime": {
     "start_time": "2023-06-20T08:10:21.068502Z"
    }
   },
   "outputs": [],
   "source": [
    "##### Incidents that could have been prevented\n",
    "tools_analysis_df['prevented_incidents'] = \"\"\n",
    "tools_analysis_df['false_positives'] = \"\"\n",
    "\n",
    "tools_analysis_df.at[total_index, 'prevented_incidents'] = set()\n",
    "tools_analysis_df.at[total_index, 'false_positives'] = set()\n",
    "#Iterate over the rows in tools_analysis_df\n",
    "for index, row in tools_analysis_df.iterrows():\n",
    "    if index == total_index:\n",
    "        continue\n",
    "    tool = row['tool']\n",
    "    is_bytecode = row['is_bytecode']\n",
    "    # Get the incident titles that have at least one vulnerability in the tool's vulnerabilities\n",
    "    incidents_in_scope = row['incidents_in_scope']\n",
    "    prevented_incidents = set([\n",
    "        incident for incident in incidents_in_scope\n",
    "        if has_intersection(incident_vulns[incident], findings[(tool, is_bytecode)][incident])\n",
    "    ])\n",
    "    # We manually check the solhint bugs and all of them are FP so we should remove them.\n",
    "    false_positives = set()\n",
    "    if tool == 'solhint':\n",
    "        false_positives = prevented_incidents\n",
    "        prevented_incidents = []\n",
    "    # Update the 'prevented_incidents' column\n",
    "    tools_analysis_df.at[index, 'prevented_incidents'] = prevented_incidents\n",
    "    tools_analysis_df.at[index, 'false_positives'] = false_positives\n",
    "    tools_analysis_df.at[total_index, 'prevented_incidents'].update(prevented_incidents)\n",
    "    tools_analysis_df.at[total_index, 'false_positives'].update(false_positives)"
   ]
  },
  {
   "cell_type": "code",
   "execution_count": null,
   "id": "ac371258",
   "metadata": {
    "ExecuteTime": {
     "start_time": "2023-06-20T08:10:21.069413Z"
    }
   },
   "outputs": [],
   "source": [
    "##### Merge tools (is_bytecode)\n",
    "df_new = tools_analysis_df.copy()[0:0]\n",
    "for index, row in tools_analysis_df.iterrows():\n",
    "    if row['tool'] not in set(df_new['tool']):\n",
    "        df_new.loc[len(df_new)] = row\n",
    "    else:\n",
    "        loc = df_new.loc[df_new['tool'] == row['tool']].index[0]\n",
    "        df_new.at[loc, 'prevented_incidents'].update(row['prevented_incidents'])\n",
    "        df_new.at[loc, 'false_positives'].update(row['false_positives'])\n",
    "        df_new.at[loc, 'incidents_in_scope'].update(row['incidents_in_scope'])\n",
    "tools_analysis_df = df_new\n",
    "tools_analysis_df = tools_analysis_df.drop(columns=['is_bytecode'])"
   ]
  },
  {
   "cell_type": "code",
   "execution_count": null,
   "id": "df86e417",
   "metadata": {
    "ExecuteTime": {
     "start_time": "2023-06-20T08:10:21.070278Z"
    }
   },
   "outputs": [],
   "source": [
    "# Damage per incident\n",
    "query = \"\"\"\n",
    "SELECT incident_title, avg_reported_damage_in_usd as damage\n",
    "FROM Incident\n",
    "\"\"\"\n",
    "qset = cur.execute(query)\n",
    "damage = {title: damage for title, damage in qset}\n",
    "    \n",
    "##### Damage in scope per tool\n",
    "tools_analysis_df['damage_in_scope'] = \"\"\n",
    "\n",
    "#Iterate over the rows in tools_analysis_df\n",
    "for index, row in tools_analysis_df.iterrows():\n",
    "    tool = row['tool']\n",
    "    # Get the incident titles that have at least one vulnerability in the tool's vulnerabilities\n",
    "    incidents_in_scope = row['incidents_in_scope']\n",
    "    damage_in_scope = int(sum(\n",
    "        damage[incident] for incident in incidents_in_scope\n",
    "    ))\n",
    "    # Update the 'incidents_in_scope' column\n",
    "    tools_analysis_df.at[index, 'damage_in_scope'] = damage_in_scope\n",
    "\n",
    "    "
   ]
  },
  {
   "cell_type": "code",
   "execution_count": null,
   "id": "bc0265a2",
   "metadata": {
    "ExecuteTime": {
     "start_time": "2023-06-20T08:10:21.070842Z"
    }
   },
   "outputs": [],
   "source": [
    "##### Damage in scope per tool\n",
    "tools_analysis_df['prevented_damage'] = \"\"\n",
    "\n",
    "#Iterate over the rows in tools_analysis_df\n",
    "for index, row in tools_analysis_df.iterrows():\n",
    "    tool = row['tool']\n",
    "    # Get the incident titles that have at least one vulnerability in the tool's vulnerabilities\n",
    "    prevented_incidents = row['prevented_incidents']\n",
    "    prevented_damage = int(sum(\n",
    "        damage[incident] for incident in prevented_incidents\n",
    "    ))\n",
    "    # Update the 'incidents_in_scope' column\n",
    "    tools_analysis_df.at[index, 'prevented_damage'] = prevented_damage"
   ]
  },
  {
   "cell_type": "code",
   "execution_count": null,
   "id": "4a0b5f5d",
   "metadata": {
    "ExecuteTime": {
     "start_time": "2023-06-20T08:10:21.071456Z"
    }
   },
   "outputs": [],
   "source": [
    "##### print #####\n",
    "def list_length(df):\n",
    "    # Create a new DataFrame with the same structure as the input\n",
    "    new_df = df.copy()\n",
    "\n",
    "    # Iterate over columns in the input DataFrame\n",
    "    for column in df.columns:\n",
    "        # Check if the first element in the column is a list\n",
    "        if isinstance(df[column].iloc[0], set):\n",
    "            # Replace each list with its length\n",
    "            new_df[column] = df[column].apply(len)\n",
    "        else:\n",
    "            # Keep the original value if it's not a list\n",
    "            new_df[column] = df[column]\n",
    "\n",
    "    return new_df\n",
    "\n",
    "\n",
    "df_11_to_print = list_length(tools_analysis_df)\n",
    "df_11_to_print"
   ]
  },
  {
   "cell_type": "code",
   "execution_count": null,
   "id": "89ebd7be",
   "metadata": {
    "ExecuteTime": {
     "start_time": "2023-06-20T08:10:21.072013Z"
    }
   },
   "outputs": [],
   "source": [
    "# 12.\n",
    "query = \"\"\"\n",
    "SELECT DISTINCT tool_name\n",
    "FROM Tool;\n",
    "\"\"\"\n",
    "qset =  cur.execute(query)\n",
    "vuln_analysis_tool = pd.DataFrame()\n",
    "\n",
    "vuln_analysis_tool['vuln'] = \"\"\n",
    "for tool in qset:\n",
    "    if tool[0] == 'manticore':\n",
    "        continue\n",
    "    vuln_analysis_tool[tool[0] + \"_detected\"] = \"\"\n",
    "    vuln_analysis_tool[tool[0] + \"_not_exploited\"] = \"\"\n",
    "vuln_analysis_tool['total_attacks'] = \"\"\n",
    "vuln_analysis_tool['total_detected'] = \"\"\n",
    "vuln_analysis_tool['total_not_exploited'] = \"\"\n",
    "for index, row in tools_df.iterrows():\n",
    "    df_12_index = len(vuln_analysis_tool)\n",
    "    if len(row['Tools']) == 0:\n",
    "        continue\n",
    "    vuln_analysis_tool.at[df_12_index, 'vuln'] = row['vuln_title']\n",
    "    vuln_analysis_tool.at[df_12_index, 'total_attacks'] = row['total']\n",
    "    detected_ids = set()\n",
    "    not_exploited_ids = set()\n",
    "    for tool in row['Tools']:\n",
    "        tool_detected = {\n",
    "            incident for incident, findings in findings_merged[tool].items()\n",
    "            for finding in findings\n",
    "            if finding == row['vuln_title'] and incident in row['ids']\n",
    "        }\n",
    "        vuln_analysis_tool.at[df_12_index, tool + \"_detected\"] = len(tool_detected)\n",
    "        detected_ids.update(tool_detected)\n",
    "        tool_not_exploited = {\n",
    "            incident for incident, findings in findings_merged[tool].items()\n",
    "            for finding in set(findings)\n",
    "            if finding == row['vuln_title'] and incident not in row['ids'] and incident in in_scope_incidents\n",
    "        }\n",
    "        vuln_analysis_tool.at[df_12_index, tool + \"_not_exploited\"] = len(tool_not_exploited)\n",
    "        not_exploited_ids.update(tool_not_exploited)\n",
    "    vuln_analysis_tool.at[df_12_index, 'total_detected'] = len(detected_ids)\n",
    "    vuln_analysis_tool.at[df_12_index, 'total_not_exploited'] = len(not_exploited_ids)\n",
    "\n",
    "    \n",
    "def f_format(x):\n",
    "    if isinstance(x, float):\n",
    "        return \"\\\\xmark\"\n",
    "    if isinstance(x, int):\n",
    "        return f\"\\\\num{{{x}}}\"\n",
    "    return f\"{x}\"\n",
    "vuln_analysis_tool\n",
    "# for _, row in vuln_analysis_tool.iterrows():\n",
    "#     print(\"{}\\\\\\\\\".format(\" & \".join(f_format(c) for c in row)))"
   ]
  },
  {
   "cell_type": "code",
   "execution_count": null,
   "id": "574c01ef",
   "metadata": {
    "ExecuteTime": {
     "start_time": "2023-06-20T08:10:21.072530Z"
    }
   },
   "outputs": [],
   "source": [
    "# Damage per incident\n",
    "query = \"\"\"\n",
    "SELECT incident_title, avg_reported_damage_in_usd as damage\n",
    "FROM Incident\n",
    "\"\"\"\n",
    "qset = cur.execute(query)\n",
    "damage = {title: damage for title, damage in qset}\n",
    "\n",
    "# For each incident get a list with vulns\n",
    "query = \"\"\"\n",
    "SELECT DISTINCT\n",
    "    I.incident_title,\n",
    "    VM.vuln_title\n",
    "FROM Incident I\n",
    "JOIN IncidentCause IC ON I.incident_id = IC.incident_id\n",
    "JOIN Cause C ON IC.cause_id = C.cause_id\n",
    "JOIN VulnerabilitiesMap VM ON C.vuln_map_id = VM.vuln_map_id;\n",
    "\"\"\"\n",
    "qset = cur.execute(query)\n",
    "incident_vulns = defaultdict(list)\n",
    "for incident, vuln in qset:\n",
    "    incident_vulns[incident].append(vuln)\n",
    "\n"
   ]
  },
  {
   "cell_type": "code",
   "execution_count": null,
   "id": "984e85c8",
   "metadata": {
    "ExecuteTime": {
     "start_time": "2023-06-20T08:10:21.073062Z"
    }
   },
   "outputs": [],
   "source": [
    "query = \"\"\"\n",
    "SELECT DISTINCT tool_name\n",
    "FROM Tool;\n",
    "\"\"\"\n",
    "qset =  cur.execute(query)\n",
    "vuln_analysis_per_tool = pd.DataFrame()\n",
    "\n",
    "vuln_analysis_per_tool['vuln'] = \"\"\n",
    "for tool in qset:\n",
    "    if tool[0] == 'manticore':\n",
    "        continue\n",
    "    vuln_analysis_per_tool[tool[0] + \"_detected\"] = \"\"\n",
    "    vuln_analysis_per_tool[tool[0] + \"_not_exploited\"] = \"\"\n",
    "vuln_analysis_per_tool['total_attacks'] = \"\"\n",
    "vuln_analysis_per_tool['total_detected'] = \"\"\n",
    "vuln_analysis_per_tool['total_not_exploited'] = \"\"\n",
    "for index, row in tools_df.iterrows():\n",
    "    vuln_analysis_per_tool_index = len(vuln_analysis_per_tool)\n",
    "    if len(row['Tools']) == 0:\n",
    "        continue\n",
    "    vuln_analysis_per_tool.at[vuln_analysis_per_tool_index, 'vuln'] = row['vuln_title']\n",
    "    vuln_analysis_per_tool.at[vuln_analysis_per_tool_index, 'total_attacks'] = row['total']\n",
    "    detected_ids = set()\n",
    "    not_exploited_ids = set()\n",
    "    for tool in row['Tools']:\n",
    "        tool_detected = {\n",
    "            incident for incident, findings in findings_merged[tool].items()\n",
    "            for finding in findings\n",
    "            if finding == row['vuln_title'] and incident in row['ids']\n",
    "        }\n",
    "        vuln_analysis_per_tool.at[vuln_analysis_per_tool_index, tool + \"_detected\"] = tool_detected\n",
    "        detected_ids.update(tool_detected)\n",
    "        tool_not_exploited = {\n",
    "            incident for incident, findings in findings_merged[tool].items()\n",
    "            for finding in set(findings)\n",
    "            if finding == row['vuln_title'] and incident not in row['ids'] and incident in in_scope_incidents\n",
    "        }\n",
    "        vuln_analysis_per_tool.at[vuln_analysis_per_tool_index, tool + \"_not_exploited\"] = tool_not_exploited\n",
    "        not_exploited_ids.update(tool_not_exploited)\n",
    "    vuln_analysis_per_tool.at[vuln_analysis_per_tool_index, 'total_detected'] = detected_ids\n",
    "    vuln_analysis_per_tool.at[vuln_analysis_per_tool_index, 'total_not_exploited'] = not_exploited_ids\n",
    "        \n",
    "    \n",
    "def f_format(x):\n",
    "    if isinstance(x, float):\n",
    "        return \"\\\\xmark\"\n",
    "    if isinstance(x, int):\n",
    "        return f\"\\\\num{{{x}}}\"\n",
    "    return f\"{x}\"\n",
    "\n",
    "vuln_analysis_per_tool"
   ]
  },
  {
   "cell_type": "code",
   "execution_count": null,
   "outputs": [],
   "source": [],
   "metadata": {
    "collapsed": false,
    "ExecuteTime": {
     "start_time": "2023-06-20T08:10:21.073562Z"
    }
   }
  }
 ],
 "metadata": {
  "kernelspec": {
   "display_name": "Python 3 (ipykernel)",
   "language": "python",
   "name": "python3"
  },
  "language_info": {
   "codemirror_mode": {
    "name": "ipython",
    "version": 3
   },
   "file_extension": ".py",
   "mimetype": "text/x-python",
   "name": "python",
   "nbconvert_exporter": "python",
   "pygments_lexer": "ipython3",
   "version": "3.11.3"
  }
 },
 "nbformat": 4,
 "nbformat_minor": 5
}
